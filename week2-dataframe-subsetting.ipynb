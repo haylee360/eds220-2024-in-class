{
 "cells": [
  {
   "cell_type": "markdown",
   "id": "eecc66b4-6f35-4539-8e17-a4f91273e169",
   "metadata": {},
   "source": [
    "# Subsetting\n",
    "\n",
    "Review core methods to select data from a `pandas.DataFrame`\n",
    "\n",
    "## Read in CSV\n",
    "\n",
    "To read in a CSV file as a `pandas.DataFrame` we use the `pandas.read_csv` function:"
   ]
  },
  {
   "cell_type": "code",
   "execution_count": 2,
   "id": "1fe6cd65-dede-4fed-91ca-c427f7de57f5",
   "metadata": {
    "tags": []
   },
   "outputs": [
    {
     "data": {
      "text/html": [
       "<div>\n",
       "<style scoped>\n",
       "    .dataframe tbody tr th:only-of-type {\n",
       "        vertical-align: middle;\n",
       "    }\n",
       "\n",
       "    .dataframe tbody tr th {\n",
       "        vertical-align: top;\n",
       "    }\n",
       "\n",
       "    .dataframe thead th {\n",
       "        text-align: right;\n",
       "    }\n",
       "</style>\n",
       "<table border=\"1\" class=\"dataframe\">\n",
       "  <thead>\n",
       "    <tr style=\"text-align: right;\">\n",
       "      <th></th>\n",
       "      <th>year</th>\n",
       "      <th>CSM_winter</th>\n",
       "      <th>CSM_spring</th>\n",
       "      <th>CSM_fall</th>\n",
       "      <th>MUL_winter</th>\n",
       "      <th>MUL_spring</th>\n",
       "      <th>MUL_fall</th>\n",
       "      <th>SDW_winter</th>\n",
       "      <th>SDW_spring</th>\n",
       "      <th>SDW_fall</th>\n",
       "      <th>TJE_winter</th>\n",
       "      <th>TJE_spring</th>\n",
       "      <th>TJE_fall</th>\n",
       "    </tr>\n",
       "  </thead>\n",
       "  <tbody>\n",
       "    <tr>\n",
       "      <th>0</th>\n",
       "      <td>2010</td>\n",
       "      <td>39.0</td>\n",
       "      <td>40.0</td>\n",
       "      <td>50.0</td>\n",
       "      <td>45.0</td>\n",
       "      <td>NaN</td>\n",
       "      <td>61.0</td>\n",
       "      <td>NaN</td>\n",
       "      <td>75.0</td>\n",
       "      <td>85.0</td>\n",
       "      <td>NaN</td>\n",
       "      <td>NaN</td>\n",
       "      <td>81.0</td>\n",
       "    </tr>\n",
       "    <tr>\n",
       "      <th>1</th>\n",
       "      <td>2011</td>\n",
       "      <td>48.0</td>\n",
       "      <td>44.0</td>\n",
       "      <td>NaN</td>\n",
       "      <td>58.0</td>\n",
       "      <td>52.0</td>\n",
       "      <td>NaN</td>\n",
       "      <td>78.0</td>\n",
       "      <td>74.0</td>\n",
       "      <td>NaN</td>\n",
       "      <td>67.0</td>\n",
       "      <td>70.0</td>\n",
       "      <td>NaN</td>\n",
       "    </tr>\n",
       "    <tr>\n",
       "      <th>2</th>\n",
       "      <td>2012</td>\n",
       "      <td>51.0</td>\n",
       "      <td>43.0</td>\n",
       "      <td>49.0</td>\n",
       "      <td>57.0</td>\n",
       "      <td>58.0</td>\n",
       "      <td>53.0</td>\n",
       "      <td>71.0</td>\n",
       "      <td>72.0</td>\n",
       "      <td>73.0</td>\n",
       "      <td>70.0</td>\n",
       "      <td>63.0</td>\n",
       "      <td>69.0</td>\n",
       "    </tr>\n",
       "    <tr>\n",
       "      <th>3</th>\n",
       "      <td>2013</td>\n",
       "      <td>42.0</td>\n",
       "      <td>46.0</td>\n",
       "      <td>38.0</td>\n",
       "      <td>60.0</td>\n",
       "      <td>58.0</td>\n",
       "      <td>62.0</td>\n",
       "      <td>69.0</td>\n",
       "      <td>70.0</td>\n",
       "      <td>70.0</td>\n",
       "      <td>69.0</td>\n",
       "      <td>74.0</td>\n",
       "      <td>64.0</td>\n",
       "    </tr>\n",
       "    <tr>\n",
       "      <th>4</th>\n",
       "      <td>2014</td>\n",
       "      <td>38.0</td>\n",
       "      <td>43.0</td>\n",
       "      <td>45.0</td>\n",
       "      <td>49.0</td>\n",
       "      <td>52.0</td>\n",
       "      <td>57.0</td>\n",
       "      <td>61.0</td>\n",
       "      <td>78.0</td>\n",
       "      <td>71.0</td>\n",
       "      <td>60.0</td>\n",
       "      <td>81.0</td>\n",
       "      <td>62.0</td>\n",
       "    </tr>\n",
       "  </tbody>\n",
       "</table>\n",
       "</div>"
      ],
      "text/plain": [
       "   year  CSM_winter  CSM_spring  CSM_fall  MUL_winter  MUL_spring  MUL_fall  \\\n",
       "0  2010        39.0        40.0      50.0        45.0         NaN      61.0   \n",
       "1  2011        48.0        44.0       NaN        58.0        52.0       NaN   \n",
       "2  2012        51.0        43.0      49.0        57.0        58.0      53.0   \n",
       "3  2013        42.0        46.0      38.0        60.0        58.0      62.0   \n",
       "4  2014        38.0        43.0      45.0        49.0        52.0      57.0   \n",
       "\n",
       "   SDW_winter  SDW_spring  SDW_fall  TJE_winter  TJE_spring  TJE_fall  \n",
       "0         NaN        75.0      85.0         NaN         NaN      81.0  \n",
       "1        78.0        74.0       NaN        67.0        70.0       NaN  \n",
       "2        71.0        72.0      73.0        70.0        63.0      69.0  \n",
       "3        69.0        70.0      70.0        69.0        74.0      64.0  \n",
       "4        61.0        78.0      71.0        60.0        81.0      62.0  "
      ]
     },
     "execution_count": 2,
     "metadata": {},
     "output_type": "execute_result"
    }
   ],
   "source": [
    "import pandas as pd\n",
    "\n",
    "# Read in file, argument is file path\n",
    "df = pd.read_csv('data/wetlands_seasonal_bird_diversity.csv')\n",
    "\n",
    "# Print first five rows\n",
    "df.head()"
   ]
  },
  {
   "cell_type": "markdown",
   "id": "1b2ad8d4-b091-4ee2-95f3-64351731be5e",
   "metadata": {},
   "source": [
    "Birds that were surveyed in four wetlands:\n",
    "\n",
    "- Carpinteria salt marsh (CSM)\n",
    "- Mugu lagoon (MUL)\n",
    "- San Dieguito Wetland (SDW)\n",
    "- Tijiuana Estuary (TJE)\n",
    "\n",
    "Values from the second column to the last column = number of different bird species recorded across the survey sites in each wetland during spring, winter, and fall, for a given year. "
   ]
  },
  {
   "cell_type": "code",
   "execution_count": 4,
   "id": "e467b7d9-0823-4760-acde-c6e1954d8f0e",
   "metadata": {
    "tags": []
   },
   "outputs": [
    {
     "name": "stdout",
     "output_type": "stream",
     "text": [
      "Index(['year', 'CSM_winter', 'CSM_spring', 'CSM_fall', 'MUL_winter',\n",
      "       'MUL_spring', 'MUL_fall', 'SDW_winter', 'SDW_spring', 'SDW_fall',\n",
      "       'TJE_winter', 'TJE_spring', 'TJE_fall'],\n",
      "      dtype='object')\n",
      "year            int64\n",
      "CSM_winter    float64\n",
      "CSM_spring    float64\n",
      "CSM_fall      float64\n",
      "MUL_winter    float64\n",
      "MUL_spring    float64\n",
      "MUL_fall      float64\n",
      "SDW_winter    float64\n",
      "SDW_spring    float64\n",
      "SDW_fall      float64\n",
      "TJE_winter    float64\n",
      "TJE_spring    float64\n",
      "TJE_fall      float64\n",
      "dtype: object\n"
     ]
    }
   ],
   "source": [
    "# View column names and types of each variable\n",
    "print(df.columns)\n",
    "print(df.dtypes)"
   ]
  },
  {
   "cell_type": "code",
   "execution_count": 6,
   "id": "f18c086d-7791-49ab-a1f8-33a0e0f9ac85",
   "metadata": {
    "tags": []
   },
   "outputs": [
    {
     "data": {
      "text/plain": [
       "(14, 13)"
      ]
     },
     "execution_count": 6,
     "metadata": {},
     "output_type": "execute_result"
    }
   ],
   "source": [
    "# Print df shape: output is a tuple with # rows, # columns\n",
    "df.shape"
   ]
  },
  {
   "cell_type": "markdown",
   "id": "dbb7ffde-2a85-460e-819f-6de14fea4053",
   "metadata": {},
   "source": [
    "## Selecting a single column\n",
    "\n",
    "Simplest case: select a single column by column name\n",
    "\n",
    "General syntax:\n",
    "```python\n",
    "df['column_name']\n",
    "```\n",
    "\n",
    "This is an example of **label-based subsetting**, which means we want to select data from df using the *names* of the columns, not their position. \n",
    "\n",
    "## Example\n",
    "Select the number of bird species at Mugu lagoon in spring"
   ]
  },
  {
   "cell_type": "code",
   "execution_count": 7,
   "id": "9e00d89b-b356-4be4-a2e5-929aa47c23b1",
   "metadata": {
    "tags": []
   },
   "outputs": [],
   "source": [
    "# Select a single column by using []\n",
    "mul_spring = df['MUL_spring']"
   ]
  },
  {
   "cell_type": "code",
   "execution_count": 8,
   "id": "8846c3d7-a370-4755-ae0c-aedb848540f5",
   "metadata": {
    "tags": []
   },
   "outputs": [
    {
     "data": {
      "text/plain": [
       "0      NaN\n",
       "1     52.0\n",
       "2     58.0\n",
       "3     58.0\n",
       "4     52.0\n",
       "5     50.0\n",
       "6     48.0\n",
       "7     54.0\n",
       "8     54.0\n",
       "9     52.0\n",
       "10     NaN\n",
       "11    55.0\n",
       "12    55.0\n",
       "13    59.0\n",
       "Name: MUL_spring, dtype: float64"
      ]
     },
     "execution_count": 8,
     "metadata": {},
     "output_type": "execute_result"
    }
   ],
   "source": [
    "mul_spring"
   ]
  },
  {
   "cell_type": "code",
   "execution_count": 10,
   "id": "8cf834b1-e891-4f7e-ae36-df45b8143346",
   "metadata": {
    "tags": []
   },
   "outputs": [
    {
     "data": {
      "text/plain": [
       "pandas.core.series.Series"
      ]
     },
     "execution_count": 10,
     "metadata": {},
     "output_type": "execute_result"
    }
   ],
   "source": [
    "# Confirm the type of output\n",
    "type(mul_spring)"
   ]
  },
  {
   "cell_type": "markdown",
   "id": "658e1c5e-da56-4a90-b8bc-a3810c47cc8d",
   "metadata": {},
   "source": [
    "Recall: we can think of a pd df as a dictionary of its columns.\n",
    "Then, we can access a single column using the column name as the *key*, just like we would in a dictionary:\n",
    "\n",
    "`df['column_name']`\n",
    "\n",
    "We can also do label-based subsetting of a single column using attribute syntax:\n",
    "```python\n",
    "df.column_name\n",
    "```\n",
    "\n",
    "Example:"
   ]
  },
  {
   "cell_type": "code",
   "execution_count": 11,
   "id": "ff3936fb-e9f7-4bfa-b809-f66c9d4fb012",
   "metadata": {
    "tags": []
   },
   "outputs": [
    {
     "data": {
      "text/plain": [
       "0      NaN\n",
       "1     52.0\n",
       "2     58.0\n",
       "3     58.0\n",
       "4     52.0\n",
       "5     50.0\n",
       "6     48.0\n",
       "7     54.0\n",
       "8     54.0\n",
       "9     52.0\n",
       "10     NaN\n",
       "11    55.0\n",
       "12    55.0\n",
       "13    59.0\n",
       "Name: MUL_spring, dtype: float64"
      ]
     },
     "execution_count": 11,
     "metadata": {},
     "output_type": "execute_result"
    }
   ],
   "source": [
    "df.MUL_spring"
   ]
  },
  {
   "cell_type": "markdown",
   "id": "15c2c1b8-8918-4ae4-83ff-5603b4ad9ea5",
   "metadata": {},
   "source": [
    "**Favor `df['column_name']` instead of `df.column_name`**\n",
    "\n",
    "why?\n",
    "\n",
    "- `df['column_name']` avoids conflicts with `pd.DataFrames` methods and attributes. For example, if the df has a column named `count` it's ambiguous whether pd.count is referring to count method or to the count column.  \n",
    "- `df['column_name']` can take any name\n",
    "`df.column_name` only works with no spaces or special characters\n",
    "\n",
    "## Selecting multiple columns\n",
    "\n",
    "### ... using a list of column names\n",
    "\n",
    "Select multiple columns in a single call by passing a list\n",
    "\n",
    "```python\n",
    "df[ ['col1', 'col2', 'col100'] ]\n",
    "```\n",
    "\n",
    "Notice the double square brackets, bc we are passing a list of names `['col1', 'col2', 'col100']` to the selection brackets\n",
    "\n",
    "### Example"
   ]
  },
  {
   "cell_type": "code",
   "execution_count": 12,
   "id": "e28b6f8a-1708-473d-92b8-f7fb2a7bf08b",
   "metadata": {
    "tags": []
   },
   "outputs": [
    {
     "data": {
      "text/html": [
       "<div>\n",
       "<style scoped>\n",
       "    .dataframe tbody tr th:only-of-type {\n",
       "        vertical-align: middle;\n",
       "    }\n",
       "\n",
       "    .dataframe tbody tr th {\n",
       "        vertical-align: top;\n",
       "    }\n",
       "\n",
       "    .dataframe thead th {\n",
       "        text-align: right;\n",
       "    }\n",
       "</style>\n",
       "<table border=\"1\" class=\"dataframe\">\n",
       "  <thead>\n",
       "    <tr style=\"text-align: right;\">\n",
       "      <th></th>\n",
       "      <th>TJE_winter</th>\n",
       "      <th>TJE_fall</th>\n",
       "    </tr>\n",
       "  </thead>\n",
       "  <tbody>\n",
       "    <tr>\n",
       "      <th>0</th>\n",
       "      <td>NaN</td>\n",
       "      <td>81.0</td>\n",
       "    </tr>\n",
       "    <tr>\n",
       "      <th>1</th>\n",
       "      <td>67.0</td>\n",
       "      <td>NaN</td>\n",
       "    </tr>\n",
       "    <tr>\n",
       "      <th>2</th>\n",
       "      <td>70.0</td>\n",
       "      <td>69.0</td>\n",
       "    </tr>\n",
       "    <tr>\n",
       "      <th>3</th>\n",
       "      <td>69.0</td>\n",
       "      <td>64.0</td>\n",
       "    </tr>\n",
       "    <tr>\n",
       "      <th>4</th>\n",
       "      <td>60.0</td>\n",
       "      <td>62.0</td>\n",
       "    </tr>\n",
       "    <tr>\n",
       "      <th>5</th>\n",
       "      <td>73.0</td>\n",
       "      <td>64.0</td>\n",
       "    </tr>\n",
       "    <tr>\n",
       "      <th>6</th>\n",
       "      <td>76.0</td>\n",
       "      <td>58.0</td>\n",
       "    </tr>\n",
       "    <tr>\n",
       "      <th>7</th>\n",
       "      <td>72.0</td>\n",
       "      <td>57.0</td>\n",
       "    </tr>\n",
       "    <tr>\n",
       "      <th>8</th>\n",
       "      <td>66.0</td>\n",
       "      <td>55.0</td>\n",
       "    </tr>\n",
       "    <tr>\n",
       "      <th>9</th>\n",
       "      <td>63.0</td>\n",
       "      <td>50.0</td>\n",
       "    </tr>\n",
       "    <tr>\n",
       "      <th>10</th>\n",
       "      <td>54.0</td>\n",
       "      <td>54.0</td>\n",
       "    </tr>\n",
       "    <tr>\n",
       "      <th>11</th>\n",
       "      <td>53.0</td>\n",
       "      <td>51.0</td>\n",
       "    </tr>\n",
       "    <tr>\n",
       "      <th>12</th>\n",
       "      <td>60.0</td>\n",
       "      <td>60.0</td>\n",
       "    </tr>\n",
       "    <tr>\n",
       "      <th>13</th>\n",
       "      <td>60.0</td>\n",
       "      <td>38.0</td>\n",
       "    </tr>\n",
       "  </tbody>\n",
       "</table>\n",
       "</div>"
      ],
      "text/plain": [
       "    TJE_winter  TJE_fall\n",
       "0          NaN      81.0\n",
       "1         67.0       NaN\n",
       "2         70.0      69.0\n",
       "3         69.0      64.0\n",
       "4         60.0      62.0\n",
       "5         73.0      64.0\n",
       "6         76.0      58.0\n",
       "7         72.0      57.0\n",
       "8         66.0      55.0\n",
       "9         63.0      50.0\n",
       "10        54.0      54.0\n",
       "11        53.0      51.0\n",
       "12        60.0      60.0\n",
       "13        60.0      38.0"
      ]
     },
     "execution_count": 12,
     "metadata": {},
     "output_type": "execute_result"
    }
   ],
   "source": [
    "# Select the columns `TJE_winter` and `TJE_fall`\n",
    "tje_wf = df[['TJE_winter', 'TJE_fall']]\n",
    "tje_wf"
   ]
  },
  {
   "cell_type": "markdown",
   "id": "14ec1431-ec71-4afd-98f1-4feb8324447d",
   "metadata": {},
   "source": [
    "### ... using a slice\n",
    "\n",
    "To select a slice of the columns, we'll use a special case of the **`loc` selection**, general syntax:\n",
    "\n",
    "```python\n",
    "df.loc[ : , 'column_start': 'column_end']\n",
    "```\n",
    "\n",
    "Starting and ending points of the column slice we want to subset from the df\n",
    "\n",
    "Notice:\n",
    "\n",
    "- the first value passed to `loc` is used for rows, the second space is for columns. using ` : ` as the row-selection parameter selects all the rows\n",
    "- the slice of hte resulting data is inclusive, it includes both endpoints of the slice. "
   ]
  },
  {
   "cell_type": "code",
   "execution_count": 14,
   "id": "1009951a-b709-4432-b619-b260530ba576",
   "metadata": {
    "tags": []
   },
   "outputs": [
    {
     "data": {
      "text/html": [
       "<div>\n",
       "<style scoped>\n",
       "    .dataframe tbody tr th:only-of-type {\n",
       "        vertical-align: middle;\n",
       "    }\n",
       "\n",
       "    .dataframe tbody tr th {\n",
       "        vertical-align: top;\n",
       "    }\n",
       "\n",
       "    .dataframe thead th {\n",
       "        text-align: right;\n",
       "    }\n",
       "</style>\n",
       "<table border=\"1\" class=\"dataframe\">\n",
       "  <thead>\n",
       "    <tr style=\"text-align: right;\">\n",
       "      <th></th>\n",
       "      <th>CSM_winter</th>\n",
       "      <th>CSM_spring</th>\n",
       "      <th>CSM_fall</th>\n",
       "      <th>MUL_winter</th>\n",
       "      <th>MUL_spring</th>\n",
       "      <th>MUL_fall</th>\n",
       "    </tr>\n",
       "  </thead>\n",
       "  <tbody>\n",
       "    <tr>\n",
       "      <th>0</th>\n",
       "      <td>39.0</td>\n",
       "      <td>40.0</td>\n",
       "      <td>50.0</td>\n",
       "      <td>45.0</td>\n",
       "      <td>NaN</td>\n",
       "      <td>61.0</td>\n",
       "    </tr>\n",
       "    <tr>\n",
       "      <th>1</th>\n",
       "      <td>48.0</td>\n",
       "      <td>44.0</td>\n",
       "      <td>NaN</td>\n",
       "      <td>58.0</td>\n",
       "      <td>52.0</td>\n",
       "      <td>NaN</td>\n",
       "    </tr>\n",
       "    <tr>\n",
       "      <th>2</th>\n",
       "      <td>51.0</td>\n",
       "      <td>43.0</td>\n",
       "      <td>49.0</td>\n",
       "      <td>57.0</td>\n",
       "      <td>58.0</td>\n",
       "      <td>53.0</td>\n",
       "    </tr>\n",
       "    <tr>\n",
       "      <th>3</th>\n",
       "      <td>42.0</td>\n",
       "      <td>46.0</td>\n",
       "      <td>38.0</td>\n",
       "      <td>60.0</td>\n",
       "      <td>58.0</td>\n",
       "      <td>62.0</td>\n",
       "    </tr>\n",
       "    <tr>\n",
       "      <th>4</th>\n",
       "      <td>38.0</td>\n",
       "      <td>43.0</td>\n",
       "      <td>45.0</td>\n",
       "      <td>49.0</td>\n",
       "      <td>52.0</td>\n",
       "      <td>57.0</td>\n",
       "    </tr>\n",
       "  </tbody>\n",
       "</table>\n",
       "</div>"
      ],
      "text/plain": [
       "   CSM_winter  CSM_spring  CSM_fall  MUL_winter  MUL_spring  MUL_fall\n",
       "0        39.0        40.0      50.0        45.0         NaN      61.0\n",
       "1        48.0        44.0       NaN        58.0        52.0       NaN\n",
       "2        51.0        43.0      49.0        57.0        58.0      53.0\n",
       "3        42.0        46.0      38.0        60.0        58.0      62.0\n",
       "4        38.0        43.0      45.0        49.0        52.0      57.0"
      ]
     },
     "execution_count": 14,
     "metadata": {},
     "output_type": "execute_result"
    }
   ],
   "source": [
    "# Select columns btwn `CSM_winter` and `MUL_fall`\n",
    "csm_mul = df.loc[:, 'CSM_winter':'MUL_fall']\n",
    "csm_mul.head()"
   ]
  },
  {
   "cell_type": "markdown",
   "id": "7bcddf5f-4b81-46b8-bc3e-b7aa52c7f8d3",
   "metadata": {},
   "source": [
    "## Selecting rows\n",
    "\n",
    "### ... using a condition\n",
    "\n",
    "```python\n",
    "df[condition_on_rows]\n",
    "```\n",
    "\n",
    "The condition on rows can be many things:\n",
    "\n",
    "### Example\n",
    "\n",
    "We are interested in data after 2020. "
   ]
  },
  {
   "cell_type": "code",
   "execution_count": 16,
   "id": "beafd0a1-baaf-459b-ad9f-279049a2664c",
   "metadata": {
    "tags": []
   },
   "outputs": [
    {
     "data": {
      "text/html": [
       "<div>\n",
       "<style scoped>\n",
       "    .dataframe tbody tr th:only-of-type {\n",
       "        vertical-align: middle;\n",
       "    }\n",
       "\n",
       "    .dataframe tbody tr th {\n",
       "        vertical-align: top;\n",
       "    }\n",
       "\n",
       "    .dataframe thead th {\n",
       "        text-align: right;\n",
       "    }\n",
       "</style>\n",
       "<table border=\"1\" class=\"dataframe\">\n",
       "  <thead>\n",
       "    <tr style=\"text-align: right;\">\n",
       "      <th></th>\n",
       "      <th>year</th>\n",
       "      <th>CSM_winter</th>\n",
       "      <th>CSM_spring</th>\n",
       "      <th>CSM_fall</th>\n",
       "      <th>MUL_winter</th>\n",
       "      <th>MUL_spring</th>\n",
       "      <th>MUL_fall</th>\n",
       "      <th>SDW_winter</th>\n",
       "      <th>SDW_spring</th>\n",
       "      <th>SDW_fall</th>\n",
       "      <th>TJE_winter</th>\n",
       "      <th>TJE_spring</th>\n",
       "      <th>TJE_fall</th>\n",
       "    </tr>\n",
       "  </thead>\n",
       "  <tbody>\n",
       "    <tr>\n",
       "      <th>11</th>\n",
       "      <td>2021</td>\n",
       "      <td>47.0</td>\n",
       "      <td>44.0</td>\n",
       "      <td>53.0</td>\n",
       "      <td>54.0</td>\n",
       "      <td>55.0</td>\n",
       "      <td>60.0</td>\n",
       "      <td>57.0</td>\n",
       "      <td>58.0</td>\n",
       "      <td>57.0</td>\n",
       "      <td>53.0</td>\n",
       "      <td>68.0</td>\n",
       "      <td>51.0</td>\n",
       "    </tr>\n",
       "    <tr>\n",
       "      <th>12</th>\n",
       "      <td>2022</td>\n",
       "      <td>40.0</td>\n",
       "      <td>46.0</td>\n",
       "      <td>49.0</td>\n",
       "      <td>60.0</td>\n",
       "      <td>55.0</td>\n",
       "      <td>65.0</td>\n",
       "      <td>57.0</td>\n",
       "      <td>60.0</td>\n",
       "      <td>57.0</td>\n",
       "      <td>60.0</td>\n",
       "      <td>61.0</td>\n",
       "      <td>60.0</td>\n",
       "    </tr>\n",
       "    <tr>\n",
       "      <th>13</th>\n",
       "      <td>2023</td>\n",
       "      <td>56.0</td>\n",
       "      <td>43.0</td>\n",
       "      <td>36.0</td>\n",
       "      <td>72.0</td>\n",
       "      <td>59.0</td>\n",
       "      <td>53.0</td>\n",
       "      <td>64.0</td>\n",
       "      <td>63.0</td>\n",
       "      <td>33.0</td>\n",
       "      <td>60.0</td>\n",
       "      <td>56.0</td>\n",
       "      <td>38.0</td>\n",
       "    </tr>\n",
       "  </tbody>\n",
       "</table>\n",
       "</div>"
      ],
      "text/plain": [
       "    year  CSM_winter  CSM_spring  CSM_fall  MUL_winter  MUL_spring  MUL_fall  \\\n",
       "11  2021        47.0        44.0      53.0        54.0        55.0      60.0   \n",
       "12  2022        40.0        46.0      49.0        60.0        55.0      65.0   \n",
       "13  2023        56.0        43.0      36.0        72.0        59.0      53.0   \n",
       "\n",
       "    SDW_winter  SDW_spring  SDW_fall  TJE_winter  TJE_spring  TJE_fall  \n",
       "11        57.0        58.0      57.0        53.0        68.0      51.0  \n",
       "12        57.0        60.0      57.0        60.0        61.0      60.0  \n",
       "13        64.0        63.0      33.0        60.0        56.0      38.0  "
      ]
     },
     "execution_count": 16,
     "metadata": {},
     "output_type": "execute_result"
    }
   ],
   "source": [
    "# Select all rows w year > 2020\n",
    "post_2020 = df[df['year'] > 2020]\n",
    "post_2020"
   ]
  },
  {
   "cell_type": "markdown",
   "id": "5a41e12f-accc-4339-ac2f-572a89dbf879",
   "metadata": {},
   "source": [
    "condition for rows = `df['year'] > 2020`\n",
    "this is a `pandas.Series` with boooooolean values (`True` and `False`) indiating which rows satisfy the condition"
   ]
  },
  {
   "cell_type": "code",
   "execution_count": 17,
   "id": "ad3b5288-4668-4a94-a3fe-5d5ff8972516",
   "metadata": {
    "tags": []
   },
   "outputs": [
    {
     "name": "stdout",
     "output_type": "stream",
     "text": [
      "<class 'pandas.core.series.Series'>\n"
     ]
    },
    {
     "data": {
      "text/plain": [
       "0     False\n",
       "1     False\n",
       "2     False\n",
       "3     False\n",
       "4     False\n",
       "5     False\n",
       "6     False\n",
       "7     False\n",
       "8     False\n",
       "9     False\n",
       "10    False\n",
       "11     True\n",
       "12     True\n",
       "13     True\n",
       "Name: year, dtype: bool"
      ]
     },
     "execution_count": 17,
     "metadata": {},
     "output_type": "execute_result"
    }
   ],
   "source": [
    "# Check the type of df['year'] > 2020\n",
    "print(type(df['year'] > 2020))\n",
    "\n",
    "# Print boolean series\n",
    "df['year'] > 2020"
   ]
  },
  {
   "cell_type": "markdown",
   "id": "383670d8-a5b9-495b-8eeb-15501307dbdc",
   "metadata": {},
   "source": [
    "This series acts as a mask for the df, only keeps the things that are true. \n",
    "\n",
    "### Check in\n",
    "Subset of SDW has at least 75 species recorded during spring"
   ]
  },
  {
   "cell_type": "code",
   "execution_count": 19,
   "id": "374656e3-ea3e-4df7-b8eb-8803a1be1694",
   "metadata": {
    "tags": []
   },
   "outputs": [
    {
     "data": {
      "text/html": [
       "<div>\n",
       "<style scoped>\n",
       "    .dataframe tbody tr th:only-of-type {\n",
       "        vertical-align: middle;\n",
       "    }\n",
       "\n",
       "    .dataframe tbody tr th {\n",
       "        vertical-align: top;\n",
       "    }\n",
       "\n",
       "    .dataframe thead th {\n",
       "        text-align: right;\n",
       "    }\n",
       "</style>\n",
       "<table border=\"1\" class=\"dataframe\">\n",
       "  <thead>\n",
       "    <tr style=\"text-align: right;\">\n",
       "      <th></th>\n",
       "      <th>year</th>\n",
       "      <th>CSM_winter</th>\n",
       "      <th>CSM_spring</th>\n",
       "      <th>CSM_fall</th>\n",
       "      <th>MUL_winter</th>\n",
       "      <th>MUL_spring</th>\n",
       "      <th>MUL_fall</th>\n",
       "      <th>SDW_winter</th>\n",
       "      <th>SDW_spring</th>\n",
       "      <th>SDW_fall</th>\n",
       "      <th>TJE_winter</th>\n",
       "      <th>TJE_spring</th>\n",
       "      <th>TJE_fall</th>\n",
       "    </tr>\n",
       "  </thead>\n",
       "  <tbody>\n",
       "    <tr>\n",
       "      <th>0</th>\n",
       "      <td>2010</td>\n",
       "      <td>39.0</td>\n",
       "      <td>40.0</td>\n",
       "      <td>50.0</td>\n",
       "      <td>45.0</td>\n",
       "      <td>NaN</td>\n",
       "      <td>61.0</td>\n",
       "      <td>NaN</td>\n",
       "      <td>75.0</td>\n",
       "      <td>85.0</td>\n",
       "      <td>NaN</td>\n",
       "      <td>NaN</td>\n",
       "      <td>81.0</td>\n",
       "    </tr>\n",
       "    <tr>\n",
       "      <th>4</th>\n",
       "      <td>2014</td>\n",
       "      <td>38.0</td>\n",
       "      <td>43.0</td>\n",
       "      <td>45.0</td>\n",
       "      <td>49.0</td>\n",
       "      <td>52.0</td>\n",
       "      <td>57.0</td>\n",
       "      <td>61.0</td>\n",
       "      <td>78.0</td>\n",
       "      <td>71.0</td>\n",
       "      <td>60.0</td>\n",
       "      <td>81.0</td>\n",
       "      <td>62.0</td>\n",
       "    </tr>\n",
       "  </tbody>\n",
       "</table>\n",
       "</div>"
      ],
      "text/plain": [
       "   year  CSM_winter  CSM_spring  CSM_fall  MUL_winter  MUL_spring  MUL_fall  \\\n",
       "0  2010        39.0        40.0      50.0        45.0         NaN      61.0   \n",
       "4  2014        38.0        43.0      45.0        49.0        52.0      57.0   \n",
       "\n",
       "   SDW_winter  SDW_spring  SDW_fall  TJE_winter  TJE_spring  TJE_fall  \n",
       "0         NaN        75.0      85.0         NaN         NaN      81.0  \n",
       "4        61.0        78.0      71.0        60.0        81.0      62.0  "
      ]
     },
     "execution_count": 19,
     "metadata": {},
     "output_type": "execute_result"
    }
   ],
   "source": [
    "sdw_spring = df[df['SDW_spring'] >= 75]\n",
    "sdw_spring"
   ]
  },
  {
   "cell_type": "code",
   "execution_count": null,
   "id": "98e3104d-2da5-48dc-a6c4-7b75accdda82",
   "metadata": {},
   "outputs": [],
   "source": []
  }
 ],
 "metadata": {
  "kernelspec": {
   "display_name": "Anaconda 3 (Base)",
   "language": "python",
   "name": "base"
  },
  "language_info": {
   "codemirror_mode": {
    "name": "ipython",
    "version": 3
   },
   "file_extension": ".py",
   "mimetype": "text/x-python",
   "name": "python",
   "nbconvert_exporter": "python",
   "pygments_lexer": "ipython3",
   "version": "3.9.13"
  }
 },
 "nbformat": 4,
 "nbformat_minor": 5
}
