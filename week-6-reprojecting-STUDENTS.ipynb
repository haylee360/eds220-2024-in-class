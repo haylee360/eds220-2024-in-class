{
 "cells": [
  {
   "cell_type": "markdown",
   "metadata": {},
   "source": [
    "# 11 Reprojecting\n",
    "\n",
    "In this section we will:\n",
    "- practice merging data frames\n",
    "- apply `if-else` statements for flow control\n",
    "- reproject geospatial data \n",
    "- create a choropleth map\n",
    "\n",
    "## About the data\n",
    "\n",
    "The first dataset we will use is a [list of Arctic communities and their location](https://search.dataone.org/view/doi%3A10.18739%2FA28S4JQ80) @brook_approximate_2023 created by the [Alaska Native Tribal Health Consortium](https://www.anthc.org). This data comess in GeoJSON file with the following attributes:\n",
    "\n",
    "- **name**: name of Arctic community, \n",
    "- **population**: population of Arctic community, as of 2022\n",
    "- **country**: country that the Arctic community falls within (see dataset metadata for the codes)\n",
    "- **geoname-id**: numeric codes that uniquely identify all administrative/legal and statistical geographic areas for which the Census Bureau tabulates data\n",
    "\n",
    "The second dataset is [Natural Earth's medium scale  cultural boundaries data for countries (1:50m)](https://www.naturalearthdata.com/downloads/50m-cultural-vectors/). \n",
    "We can obtain this dataset by downloading the shapefile. \n",
    "[Natural Earth](https://www.naturalearthdata.com) is a public domain dataset with ready-to-use data for creating maps. \n",
    "\n",
    "## Import data\n",
    "\n",
    "We will first import the countries shapefile and adapt it for wrangling purposes:\n",
    "\n",
    "**EXERCISE** \n",
    "\n",
    "The following code has 4 bugs, find them and correct them in order to udpate the data."
   ]
  },
  {
   "cell_type": "code",
   "execution_count": null,
   "metadata": {
    "tags": []
   },
   "outputs": [],
   "source": [
    "import os\n",
    "import pandas as pd\n",
    "import matplotlib.pyplot as plt\n",
    "import geopandas as gpd\n",
    "\n",
    "\"\"\"\n",
    "Set environment variable 'PROJ_LIB' to specify the path for the PROJ library\n",
    "Resolves ERROR 1: PROJ: proj_create_from_database\n",
    "\"\"\"\"\"\n",
    "os.environ['PROJ_LIB'] = '/opt/anaconda3/share/proj'\n",
    "\n",
    "# -------------------------------------------------------\n",
    "# Import data\n",
    "\n",
    "# Path to course data folder\n",
    "data_folder_fp = os.path.join('/',\n",
    "                              'courses'\n",
    "                              'EDS220', \n",
    "                              'data')\n",
    "\n",
    "# Import countries shapefile\n",
    "fp = os.path.join(data_folder_fp, \n",
    "                  'ne_50m_admin_0_countries', \n",
    "                  'ne_50m_admin_0_countries')\n",
    "countries = gpd.read_file(fp)\n",
    "countries.columns = countries.columns.str.lower()  # Simplify column names\n",
    "\n",
    "# Import Arctic communities GeoJSON directly from URL\n",
    "URL = 'https://cn.dataone.org/cn/v2/resolve/urn%3Auuid%3Aed7718ae-fb0d-43dd-9270-fbfe80bfc7a4'\n",
    "communities = pd.read_csv(URL)\n",
    "\n",
    "# Import country names CSV\n",
    "fp = os.path.join(data_folder_fp, \n",
    "                  'country_names', \n",
    "                  'country_names.csv')\n",
    "country_names = gpd.read_csv(fp)"
   ]
  },
  {
   "cell_type": "code",
   "execution_count": null,
   "metadata": {},
   "outputs": [],
   "source": [
    "countries = countries[['admin', 'type', 'geometry']]\n",
    "countries.head(3)"
   ]
  },
  {
   "cell_type": "code",
   "execution_count": null,
   "metadata": {},
   "outputs": [],
   "source": [
    "communities.head(3)"
   ]
  },
  {
   "cell_type": "code",
   "execution_count": null,
   "metadata": {},
   "outputs": [],
   "source": [
    "country_names"
   ]
  }
 ],
 "metadata": {
  "kernelspec": {
   "display_name": "Anaconda 3 (EDS220)",
   "language": "python",
   "name": "eds220-env"
  },
  "language_info": {
   "codemirror_mode": {
    "name": "ipython",
    "version": 3
   },
   "file_extension": ".py",
   "mimetype": "text/x-python",
   "name": "python",
   "nbconvert_exporter": "python",
   "pygments_lexer": "ipython3",
   "version": "3.11.4"
  },
  "vscode": {
   "interpreter": {
    "hash": "0f97f47f74ab0b040131b6681dd542ab9cd7e1dcd971bc09e899dabc517362fa"
   }
  }
 },
 "nbformat": 4,
 "nbformat_minor": 4
}
