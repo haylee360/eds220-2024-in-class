{
 "cells": [
  {
   "cell_type": "markdown",
   "id": "03d5361f-1498-48e1-8680-f49429e10298",
   "metadata": {},
   "source": [
    "# CSV to `GeoDataFrame`\n",
    "\n",
    "Let's start importing packages and updating viewing options:"
   ]
  },
  {
   "cell_type": "code",
   "execution_count": null,
   "id": "5a3232f5-4d9a-44ec-b148-7f71b0afcca2",
   "metadata": {},
   "outputs": [],
   "source": []
  }
 ],
 "metadata": {
  "kernelspec": {
   "display_name": "Anaconda 3 (Base)",
   "language": "python",
   "name": "base"
  },
  "language_info": {
   "codemirror_mode": {
    "name": "ipython",
    "version": 3
   },
   "file_extension": ".py",
   "mimetype": "text/x-python",
   "name": "python",
   "nbconvert_exporter": "python",
   "pygments_lexer": "ipython3",
   "version": "3.9.13"
  }
 },
 "nbformat": 4,
 "nbformat_minor": 5
}
