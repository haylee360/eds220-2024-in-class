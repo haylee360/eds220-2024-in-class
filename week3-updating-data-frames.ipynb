{
 "cells": [
  {
   "cell_type": "markdown",
   "id": "36bfbb05-ac40-4ba1-9def-262d27c092fb",
   "metadata": {},
   "source": [
    "# Updating data frames\n",
    "\n",
    "We will go over methods for updating a `pandas.DataFrame` using Palmer penguins.\n",
    "\n",
    "## Adding a single column...\n",
    "\n",
    "Start by importing packages and data"
   ]
  },
  {
   "cell_type": "code",
   "execution_count": 29,
   "id": "9fd46213-87a3-427e-8274-bc4069bf1f01",
   "metadata": {
    "tags": []
   },
   "outputs": [],
   "source": [
    "import numpy as np\n",
    "import pandas as pd\n",
    "import random # Used for randomly sampling integers\n",
    "\n",
    "# Set the seed\n",
    "random.seed(42)\n",
    "\n",
    "# Import data\n",
    "URL = 'https://raw.githubusercontent.com/allisonhorst/palmerpenguins/main/inst/extdata/penguins.csv'\n",
    "penguins = pd.read_csv(URL)"
   ]
  },
  {
   "cell_type": "markdown",
   "id": "4a2ca41b-06e5-4413-a547-188b27ba4aca",
   "metadata": {},
   "source": [
    "## ... using dictionary-like syntax\n",
    "\n",
    "Simplest way to add a new column to a `pandas.DataFrame`:\n",
    "\n",
    "```python\n",
    "df['new_column_name'] = new_column_values\n",
    "```\n",
    "\n",
    "If the column name exists, then the existing column will be updated\n",
    "This syntax is the same as adding a new key=value pair to a dictionary:\n",
    "\n",
    "```python\n",
    "d[new_key] = new_value\n",
    "```\n",
    "\n",
    "### Example\n",
    "\n",
    "Create a new column where the body mass is in kg instead of g"
   ]
  },
  {
   "cell_type": "code",
   "execution_count": 30,
   "id": "1032d389-bf53-4295-969a-ff4d1787b3f8",
   "metadata": {
    "tags": []
   },
   "outputs": [
    {
     "name": "stdout",
     "output_type": "stream",
     "text": [
      "True\n"
     ]
    },
    {
     "data": {
      "text/html": [
       "<div>\n",
       "<style scoped>\n",
       "    .dataframe tbody tr th:only-of-type {\n",
       "        vertical-align: middle;\n",
       "    }\n",
       "\n",
       "    .dataframe tbody tr th {\n",
       "        vertical-align: top;\n",
       "    }\n",
       "\n",
       "    .dataframe thead th {\n",
       "        text-align: right;\n",
       "    }\n",
       "</style>\n",
       "<table border=\"1\" class=\"dataframe\">\n",
       "  <thead>\n",
       "    <tr style=\"text-align: right;\">\n",
       "      <th></th>\n",
       "      <th>species</th>\n",
       "      <th>island</th>\n",
       "      <th>bill_length_mm</th>\n",
       "      <th>bill_depth_mm</th>\n",
       "      <th>flipper_length_mm</th>\n",
       "      <th>body_mass_g</th>\n",
       "      <th>sex</th>\n",
       "      <th>year</th>\n",
       "      <th>body_mass_kg</th>\n",
       "    </tr>\n",
       "  </thead>\n",
       "  <tbody>\n",
       "    <tr>\n",
       "      <th>0</th>\n",
       "      <td>Adelie</td>\n",
       "      <td>Torgersen</td>\n",
       "      <td>39.1</td>\n",
       "      <td>18.7</td>\n",
       "      <td>181.0</td>\n",
       "      <td>3750.0</td>\n",
       "      <td>male</td>\n",
       "      <td>2007</td>\n",
       "      <td>3.75</td>\n",
       "    </tr>\n",
       "    <tr>\n",
       "      <th>1</th>\n",
       "      <td>Adelie</td>\n",
       "      <td>Torgersen</td>\n",
       "      <td>39.5</td>\n",
       "      <td>17.4</td>\n",
       "      <td>186.0</td>\n",
       "      <td>3800.0</td>\n",
       "      <td>female</td>\n",
       "      <td>2007</td>\n",
       "      <td>3.80</td>\n",
       "    </tr>\n",
       "    <tr>\n",
       "      <th>2</th>\n",
       "      <td>Adelie</td>\n",
       "      <td>Torgersen</td>\n",
       "      <td>40.3</td>\n",
       "      <td>18.0</td>\n",
       "      <td>195.0</td>\n",
       "      <td>3250.0</td>\n",
       "      <td>female</td>\n",
       "      <td>2007</td>\n",
       "      <td>3.25</td>\n",
       "    </tr>\n",
       "    <tr>\n",
       "      <th>3</th>\n",
       "      <td>Adelie</td>\n",
       "      <td>Torgersen</td>\n",
       "      <td>NaN</td>\n",
       "      <td>NaN</td>\n",
       "      <td>NaN</td>\n",
       "      <td>NaN</td>\n",
       "      <td>NaN</td>\n",
       "      <td>2007</td>\n",
       "      <td>NaN</td>\n",
       "    </tr>\n",
       "    <tr>\n",
       "      <th>4</th>\n",
       "      <td>Adelie</td>\n",
       "      <td>Torgersen</td>\n",
       "      <td>36.7</td>\n",
       "      <td>19.3</td>\n",
       "      <td>193.0</td>\n",
       "      <td>3450.0</td>\n",
       "      <td>female</td>\n",
       "      <td>2007</td>\n",
       "      <td>3.45</td>\n",
       "    </tr>\n",
       "  </tbody>\n",
       "</table>\n",
       "</div>"
      ],
      "text/plain": [
       "  species     island  bill_length_mm  bill_depth_mm  flipper_length_mm  \\\n",
       "0  Adelie  Torgersen            39.1           18.7              181.0   \n",
       "1  Adelie  Torgersen            39.5           17.4              186.0   \n",
       "2  Adelie  Torgersen            40.3           18.0              195.0   \n",
       "3  Adelie  Torgersen             NaN            NaN                NaN   \n",
       "4  Adelie  Torgersen            36.7           19.3              193.0   \n",
       "\n",
       "   body_mass_g     sex  year  body_mass_kg  \n",
       "0       3750.0    male  2007          3.75  \n",
       "1       3800.0  female  2007          3.80  \n",
       "2       3250.0  female  2007          3.25  \n",
       "3          NaN     NaN  2007           NaN  \n",
       "4       3450.0  female  2007          3.45  "
      ]
     },
     "execution_count": 30,
     "metadata": {},
     "output_type": "execute_result"
    }
   ],
   "source": [
    "# Add a new column body_mass_kg\n",
    "penguins['body_mass_kg'] = penguins['body_mass_g'] / 1000\n",
    "\n",
    "# Confirm the new column is in the df\n",
    "print('body_mass_kg' in penguins.columns)\n",
    "\n",
    "# Look at the new column\n",
    "penguins.head()"
   ]
  },
  {
   "cell_type": "markdown",
   "id": "3a616e26-1d08-442f-bc8b-fc6fb1193bae",
   "metadata": {},
   "source": [
    "## ... using the `assign()` method\n",
    "\n",
    "Create or update an existing column using `assign()`\n",
    "\n",
    "```python\n",
    "df = df.assign(new_col_name=new_col_values)\n",
    "```\n",
    "\n",
    "Notice: Column names are not string, we declare them as if we were creating variables. It doesn't modify things in place, this can be useful for chaining operations"
   ]
  },
  {
   "cell_type": "code",
   "execution_count": 31,
   "id": "79f464fe-75ac-4e51-8e69-b0cde655cd04",
   "metadata": {
    "tags": []
   },
   "outputs": [
    {
     "data": {
      "text/plain": [
       "<AxesSubplot:xlabel='bill_length_cm', ylabel='body_mass_g'>"
      ]
     },
     "execution_count": 31,
     "metadata": {},
     "output_type": "execute_result"
    },
    {
     "data": {
      "image/png": "[encoded data removed]",
      "text/plain": [
       "<Figure size 640x480 with 1 Axes>"
      ]
     },
     "metadata": {},
     "output_type": "display_data"
    }
   ],
   "source": [
    "(penguins.assign(bill_length_cm=penguins['bill_length_mm']/10)\n",
    ".plot(kind='scatter', \n",
    "     x='bill_length_cm',\n",
    "     y='body_mass_g')\n",
    ")"
   ]
  },
  {
   "cell_type": "code",
   "execution_count": 32,
   "id": "64ce8cff-b6e7-4afb-b357-27eca6115074",
   "metadata": {
    "tags": []
   },
   "outputs": [
    {
     "data": {
      "text/html": [
       "<div>\n",
       "<style scoped>\n",
       "    .dataframe tbody tr th:only-of-type {\n",
       "        vertical-align: middle;\n",
       "    }\n",
       "\n",
       "    .dataframe tbody tr th {\n",
       "        vertical-align: top;\n",
       "    }\n",
       "\n",
       "    .dataframe thead th {\n",
       "        text-align: right;\n",
       "    }\n",
       "</style>\n",
       "<table border=\"1\" class=\"dataframe\">\n",
       "  <thead>\n",
       "    <tr style=\"text-align: right;\">\n",
       "      <th></th>\n",
       "      <th>species</th>\n",
       "      <th>island</th>\n",
       "      <th>bill_length_mm</th>\n",
       "      <th>bill_depth_mm</th>\n",
       "      <th>flipper_length_mm</th>\n",
       "      <th>body_mass_g</th>\n",
       "      <th>sex</th>\n",
       "      <th>year</th>\n",
       "      <th>body_mass_kg</th>\n",
       "    </tr>\n",
       "  </thead>\n",
       "  <tbody>\n",
       "    <tr>\n",
       "      <th>0</th>\n",
       "      <td>Adelie</td>\n",
       "      <td>Torgersen</td>\n",
       "      <td>39.1</td>\n",
       "      <td>18.7</td>\n",
       "      <td>181.0</td>\n",
       "      <td>3750.0</td>\n",
       "      <td>male</td>\n",
       "      <td>2007</td>\n",
       "      <td>3.75</td>\n",
       "    </tr>\n",
       "    <tr>\n",
       "      <th>1</th>\n",
       "      <td>Adelie</td>\n",
       "      <td>Torgersen</td>\n",
       "      <td>39.5</td>\n",
       "      <td>17.4</td>\n",
       "      <td>186.0</td>\n",
       "      <td>3800.0</td>\n",
       "      <td>female</td>\n",
       "      <td>2007</td>\n",
       "      <td>3.80</td>\n",
       "    </tr>\n",
       "    <tr>\n",
       "      <th>2</th>\n",
       "      <td>Adelie</td>\n",
       "      <td>Torgersen</td>\n",
       "      <td>40.3</td>\n",
       "      <td>18.0</td>\n",
       "      <td>195.0</td>\n",
       "      <td>3250.0</td>\n",
       "      <td>female</td>\n",
       "      <td>2007</td>\n",
       "      <td>3.25</td>\n",
       "    </tr>\n",
       "    <tr>\n",
       "      <th>3</th>\n",
       "      <td>Adelie</td>\n",
       "      <td>Torgersen</td>\n",
       "      <td>NaN</td>\n",
       "      <td>NaN</td>\n",
       "      <td>NaN</td>\n",
       "      <td>NaN</td>\n",
       "      <td>NaN</td>\n",
       "      <td>2007</td>\n",
       "      <td>NaN</td>\n",
       "    </tr>\n",
       "    <tr>\n",
       "      <th>4</th>\n",
       "      <td>Adelie</td>\n",
       "      <td>Torgersen</td>\n",
       "      <td>36.7</td>\n",
       "      <td>19.3</td>\n",
       "      <td>193.0</td>\n",
       "      <td>3450.0</td>\n",
       "      <td>female</td>\n",
       "      <td>2007</td>\n",
       "      <td>3.45</td>\n",
       "    </tr>\n",
       "  </tbody>\n",
       "</table>\n",
       "</div>"
      ],
      "text/plain": [
       "  species     island  bill_length_mm  bill_depth_mm  flipper_length_mm  \\\n",
       "0  Adelie  Torgersen            39.1           18.7              181.0   \n",
       "1  Adelie  Torgersen            39.5           17.4              186.0   \n",
       "2  Adelie  Torgersen            40.3           18.0              195.0   \n",
       "3  Adelie  Torgersen             NaN            NaN                NaN   \n",
       "4  Adelie  Torgersen            36.7           19.3              193.0   \n",
       "\n",
       "   body_mass_g     sex  year  body_mass_kg  \n",
       "0       3750.0    male  2007          3.75  \n",
       "1       3800.0  female  2007          3.80  \n",
       "2       3250.0  female  2007          3.25  \n",
       "3          NaN     NaN  2007           NaN  \n",
       "4       3450.0  female  2007          3.45  "
      ]
     },
     "execution_count": 32,
     "metadata": {},
     "output_type": "execute_result"
    }
   ],
   "source": [
    "# Notice the bill_length_mm column was not added to the df\n",
    "penguins.head()"
   ]
  },
  {
   "cell_type": "markdown",
   "id": "f3e870d2-d147-442b-b789-55500a97c8ca",
   "metadata": {},
   "source": [
    "## ... at a specific location\n",
    "\n",
    "The new column was added by default at the end of the df.\n",
    "If we want to create a new column and insert at a particular location, we can use `insert()`:\n",
    "\n",
    "### Example\n",
    "Give each penguin observation a unique identifier as a three digit number, add this column at the beginning of the df\n",
    "\n",
    "Modifies in place "
   ]
  },
  {
   "cell_type": "code",
   "execution_count": 33,
   "id": "53e0fa03-7c36-484b-952a-667d5b761ba0",
   "metadata": {
    "tags": []
   },
   "outputs": [],
   "source": [
    "# Create unique random 3-digit codes\n",
    "codes = random.sample(range(100,1000), len(penguins)) # Sampling without replacement\n",
    "\n",
    "# Insert codes at the front of the df\n",
    "penguins.insert(loc=0, # Index\n",
    "                column='id_code', # New column name\n",
    "                value=codes)"
   ]
  },
  {
   "cell_type": "code",
   "execution_count": 34,
   "id": "a7ea227b-5d17-41af-a896-ca88c1bba30a",
   "metadata": {
    "tags": []
   },
   "outputs": [
    {
     "data": {
      "text/html": [
       "<div>\n",
       "<style scoped>\n",
       "    .dataframe tbody tr th:only-of-type {\n",
       "        vertical-align: middle;\n",
       "    }\n",
       "\n",
       "    .dataframe tbody tr th {\n",
       "        vertical-align: top;\n",
       "    }\n",
       "\n",
       "    .dataframe thead th {\n",
       "        text-align: right;\n",
       "    }\n",
       "</style>\n",
       "<table border=\"1\" class=\"dataframe\">\n",
       "  <thead>\n",
       "    <tr style=\"text-align: right;\">\n",
       "      <th></th>\n",
       "      <th>id_code</th>\n",
       "      <th>species</th>\n",
       "      <th>island</th>\n",
       "      <th>bill_length_mm</th>\n",
       "      <th>bill_depth_mm</th>\n",
       "      <th>flipper_length_mm</th>\n",
       "      <th>body_mass_g</th>\n",
       "      <th>sex</th>\n",
       "      <th>year</th>\n",
       "      <th>body_mass_kg</th>\n",
       "    </tr>\n",
       "  </thead>\n",
       "  <tbody>\n",
       "    <tr>\n",
       "      <th>0</th>\n",
       "      <td>754</td>\n",
       "      <td>Adelie</td>\n",
       "      <td>Torgersen</td>\n",
       "      <td>39.1</td>\n",
       "      <td>18.7</td>\n",
       "      <td>181.0</td>\n",
       "      <td>3750.0</td>\n",
       "      <td>male</td>\n",
       "      <td>2007</td>\n",
       "      <td>3.750</td>\n",
       "    </tr>\n",
       "    <tr>\n",
       "      <th>1</th>\n",
       "      <td>214</td>\n",
       "      <td>Adelie</td>\n",
       "      <td>Torgersen</td>\n",
       "      <td>39.5</td>\n",
       "      <td>17.4</td>\n",
       "      <td>186.0</td>\n",
       "      <td>3800.0</td>\n",
       "      <td>female</td>\n",
       "      <td>2007</td>\n",
       "      <td>3.800</td>\n",
       "    </tr>\n",
       "    <tr>\n",
       "      <th>2</th>\n",
       "      <td>125</td>\n",
       "      <td>Adelie</td>\n",
       "      <td>Torgersen</td>\n",
       "      <td>40.3</td>\n",
       "      <td>18.0</td>\n",
       "      <td>195.0</td>\n",
       "      <td>3250.0</td>\n",
       "      <td>female</td>\n",
       "      <td>2007</td>\n",
       "      <td>3.250</td>\n",
       "    </tr>\n",
       "    <tr>\n",
       "      <th>3</th>\n",
       "      <td>859</td>\n",
       "      <td>Adelie</td>\n",
       "      <td>Torgersen</td>\n",
       "      <td>NaN</td>\n",
       "      <td>NaN</td>\n",
       "      <td>NaN</td>\n",
       "      <td>NaN</td>\n",
       "      <td>NaN</td>\n",
       "      <td>2007</td>\n",
       "      <td>NaN</td>\n",
       "    </tr>\n",
       "    <tr>\n",
       "      <th>4</th>\n",
       "      <td>381</td>\n",
       "      <td>Adelie</td>\n",
       "      <td>Torgersen</td>\n",
       "      <td>36.7</td>\n",
       "      <td>19.3</td>\n",
       "      <td>193.0</td>\n",
       "      <td>3450.0</td>\n",
       "      <td>female</td>\n",
       "      <td>2007</td>\n",
       "      <td>3.450</td>\n",
       "    </tr>\n",
       "    <tr>\n",
       "      <th>...</th>\n",
       "      <td>...</td>\n",
       "      <td>...</td>\n",
       "      <td>...</td>\n",
       "      <td>...</td>\n",
       "      <td>...</td>\n",
       "      <td>...</td>\n",
       "      <td>...</td>\n",
       "      <td>...</td>\n",
       "      <td>...</td>\n",
       "      <td>...</td>\n",
       "    </tr>\n",
       "    <tr>\n",
       "      <th>339</th>\n",
       "      <td>140</td>\n",
       "      <td>Chinstrap</td>\n",
       "      <td>Dream</td>\n",
       "      <td>55.8</td>\n",
       "      <td>19.8</td>\n",
       "      <td>207.0</td>\n",
       "      <td>4000.0</td>\n",
       "      <td>male</td>\n",
       "      <td>2009</td>\n",
       "      <td>4.000</td>\n",
       "    </tr>\n",
       "    <tr>\n",
       "      <th>340</th>\n",
       "      <td>183</td>\n",
       "      <td>Chinstrap</td>\n",
       "      <td>Dream</td>\n",
       "      <td>43.5</td>\n",
       "      <td>18.1</td>\n",
       "      <td>202.0</td>\n",
       "      <td>3400.0</td>\n",
       "      <td>female</td>\n",
       "      <td>2009</td>\n",
       "      <td>3.400</td>\n",
       "    </tr>\n",
       "    <tr>\n",
       "      <th>341</th>\n",
       "      <td>969</td>\n",
       "      <td>Chinstrap</td>\n",
       "      <td>Dream</td>\n",
       "      <td>49.6</td>\n",
       "      <td>18.2</td>\n",
       "      <td>193.0</td>\n",
       "      <td>3775.0</td>\n",
       "      <td>male</td>\n",
       "      <td>2009</td>\n",
       "      <td>3.775</td>\n",
       "    </tr>\n",
       "    <tr>\n",
       "      <th>342</th>\n",
       "      <td>635</td>\n",
       "      <td>Chinstrap</td>\n",
       "      <td>Dream</td>\n",
       "      <td>50.8</td>\n",
       "      <td>19.0</td>\n",
       "      <td>210.0</td>\n",
       "      <td>4100.0</td>\n",
       "      <td>male</td>\n",
       "      <td>2009</td>\n",
       "      <td>4.100</td>\n",
       "    </tr>\n",
       "    <tr>\n",
       "      <th>343</th>\n",
       "      <td>883</td>\n",
       "      <td>Chinstrap</td>\n",
       "      <td>Dream</td>\n",
       "      <td>50.2</td>\n",
       "      <td>18.7</td>\n",
       "      <td>198.0</td>\n",
       "      <td>3775.0</td>\n",
       "      <td>female</td>\n",
       "      <td>2009</td>\n",
       "      <td>3.775</td>\n",
       "    </tr>\n",
       "  </tbody>\n",
       "</table>\n",
       "<p>344 rows × 10 columns</p>\n",
       "</div>"
      ],
      "text/plain": [
       "     id_code    species     island  bill_length_mm  bill_depth_mm  \\\n",
       "0        754     Adelie  Torgersen            39.1           18.7   \n",
       "1        214     Adelie  Torgersen            39.5           17.4   \n",
       "2        125     Adelie  Torgersen            40.3           18.0   \n",
       "3        859     Adelie  Torgersen             NaN            NaN   \n",
       "4        381     Adelie  Torgersen            36.7           19.3   \n",
       "..       ...        ...        ...             ...            ...   \n",
       "339      140  Chinstrap      Dream            55.8           19.8   \n",
       "340      183  Chinstrap      Dream            43.5           18.1   \n",
       "341      969  Chinstrap      Dream            49.6           18.2   \n",
       "342      635  Chinstrap      Dream            50.8           19.0   \n",
       "343      883  Chinstrap      Dream            50.2           18.7   \n",
       "\n",
       "     flipper_length_mm  body_mass_g     sex  year  body_mass_kg  \n",
       "0                181.0       3750.0    male  2007         3.750  \n",
       "1                186.0       3800.0  female  2007         3.800  \n",
       "2                195.0       3250.0  female  2007         3.250  \n",
       "3                  NaN          NaN     NaN  2007           NaN  \n",
       "4                193.0       3450.0  female  2007         3.450  \n",
       "..                 ...          ...     ...   ...           ...  \n",
       "339              207.0       4000.0    male  2009         4.000  \n",
       "340              202.0       3400.0  female  2009         3.400  \n",
       "341              193.0       3775.0    male  2009         3.775  \n",
       "342              210.0       4100.0    male  2009         4.100  \n",
       "343              198.0       3775.0  female  2009         3.775  \n",
       "\n",
       "[344 rows x 10 columns]"
      ]
     },
     "execution_count": 34,
     "metadata": {},
     "output_type": "execute_result"
    }
   ],
   "source": [
    "penguins"
   ]
  },
  {
   "cell_type": "markdown",
   "id": "d02e5cb3-f73d-4ec8-872b-cd2a4a14a491",
   "metadata": {},
   "source": [
    "## Adding multiple columns\n",
    "\n",
    "Use `assign()` to create or update multiple columns in the same call:\n",
    "\n",
    "```python\n",
    "df = df.assign( newcol)\n",
    "```\n",
    "\n",
    "### Example\n",
    "- flipper length from mm to cm\n",
    "- code representing the observer\n",
    "\n",
    "We can add these columns \n",
    "\n",
    "Use random.choices for sampling with replacement"
   ]
  },
  {
   "cell_type": "code",
   "execution_count": 35,
   "id": "acfd242a-caa1-43a4-a21e-96c293caa63a",
   "metadata": {
    "tags": []
   },
   "outputs": [],
   "source": [
    "# Create columns with observer codes and flipper length in cm\n",
    "penguins = penguins.assign(flipper_length_cm=penguins['flipper_length_mm']/10,\n",
    "                          observer=random.choices(['A', 'B', 'C'], k=len(penguins)))"
   ]
  },
  {
   "cell_type": "code",
   "execution_count": 36,
   "id": "0fc40c16-b9aa-4664-bb48-0bfcdd23bd83",
   "metadata": {
    "tags": []
   },
   "outputs": [
    {
     "data": {
      "text/html": [
       "<div>\n",
       "<style scoped>\n",
       "    .dataframe tbody tr th:only-of-type {\n",
       "        vertical-align: middle;\n",
       "    }\n",
       "\n",
       "    .dataframe tbody tr th {\n",
       "        vertical-align: top;\n",
       "    }\n",
       "\n",
       "    .dataframe thead th {\n",
       "        text-align: right;\n",
       "    }\n",
       "</style>\n",
       "<table border=\"1\" class=\"dataframe\">\n",
       "  <thead>\n",
       "    <tr style=\"text-align: right;\">\n",
       "      <th></th>\n",
       "      <th>id_code</th>\n",
       "      <th>species</th>\n",
       "      <th>island</th>\n",
       "      <th>bill_length_mm</th>\n",
       "      <th>bill_depth_mm</th>\n",
       "      <th>flipper_length_mm</th>\n",
       "      <th>body_mass_g</th>\n",
       "      <th>sex</th>\n",
       "      <th>year</th>\n",
       "      <th>body_mass_kg</th>\n",
       "      <th>flipper_length_cm</th>\n",
       "      <th>observer</th>\n",
       "    </tr>\n",
       "  </thead>\n",
       "  <tbody>\n",
       "    <tr>\n",
       "      <th>0</th>\n",
       "      <td>754</td>\n",
       "      <td>Adelie</td>\n",
       "      <td>Torgersen</td>\n",
       "      <td>39.1</td>\n",
       "      <td>18.7</td>\n",
       "      <td>181.0</td>\n",
       "      <td>3750.0</td>\n",
       "      <td>male</td>\n",
       "      <td>2007</td>\n",
       "      <td>3.750</td>\n",
       "      <td>18.1</td>\n",
       "      <td>C</td>\n",
       "    </tr>\n",
       "    <tr>\n",
       "      <th>1</th>\n",
       "      <td>214</td>\n",
       "      <td>Adelie</td>\n",
       "      <td>Torgersen</td>\n",
       "      <td>39.5</td>\n",
       "      <td>17.4</td>\n",
       "      <td>186.0</td>\n",
       "      <td>3800.0</td>\n",
       "      <td>female</td>\n",
       "      <td>2007</td>\n",
       "      <td>3.800</td>\n",
       "      <td>18.6</td>\n",
       "      <td>A</td>\n",
       "    </tr>\n",
       "    <tr>\n",
       "      <th>2</th>\n",
       "      <td>125</td>\n",
       "      <td>Adelie</td>\n",
       "      <td>Torgersen</td>\n",
       "      <td>40.3</td>\n",
       "      <td>18.0</td>\n",
       "      <td>195.0</td>\n",
       "      <td>3250.0</td>\n",
       "      <td>female</td>\n",
       "      <td>2007</td>\n",
       "      <td>3.250</td>\n",
       "      <td>19.5</td>\n",
       "      <td>C</td>\n",
       "    </tr>\n",
       "    <tr>\n",
       "      <th>3</th>\n",
       "      <td>859</td>\n",
       "      <td>Adelie</td>\n",
       "      <td>Torgersen</td>\n",
       "      <td>NaN</td>\n",
       "      <td>NaN</td>\n",
       "      <td>NaN</td>\n",
       "      <td>NaN</td>\n",
       "      <td>NaN</td>\n",
       "      <td>2007</td>\n",
       "      <td>NaN</td>\n",
       "      <td>NaN</td>\n",
       "      <td>A</td>\n",
       "    </tr>\n",
       "    <tr>\n",
       "      <th>4</th>\n",
       "      <td>381</td>\n",
       "      <td>Adelie</td>\n",
       "      <td>Torgersen</td>\n",
       "      <td>36.7</td>\n",
       "      <td>19.3</td>\n",
       "      <td>193.0</td>\n",
       "      <td>3450.0</td>\n",
       "      <td>female</td>\n",
       "      <td>2007</td>\n",
       "      <td>3.450</td>\n",
       "      <td>19.3</td>\n",
       "      <td>B</td>\n",
       "    </tr>\n",
       "    <tr>\n",
       "      <th>...</th>\n",
       "      <td>...</td>\n",
       "      <td>...</td>\n",
       "      <td>...</td>\n",
       "      <td>...</td>\n",
       "      <td>...</td>\n",
       "      <td>...</td>\n",
       "      <td>...</td>\n",
       "      <td>...</td>\n",
       "      <td>...</td>\n",
       "      <td>...</td>\n",
       "      <td>...</td>\n",
       "      <td>...</td>\n",
       "    </tr>\n",
       "    <tr>\n",
       "      <th>339</th>\n",
       "      <td>140</td>\n",
       "      <td>Chinstrap</td>\n",
       "      <td>Dream</td>\n",
       "      <td>55.8</td>\n",
       "      <td>19.8</td>\n",
       "      <td>207.0</td>\n",
       "      <td>4000.0</td>\n",
       "      <td>male</td>\n",
       "      <td>2009</td>\n",
       "      <td>4.000</td>\n",
       "      <td>20.7</td>\n",
       "      <td>C</td>\n",
       "    </tr>\n",
       "    <tr>\n",
       "      <th>340</th>\n",
       "      <td>183</td>\n",
       "      <td>Chinstrap</td>\n",
       "      <td>Dream</td>\n",
       "      <td>43.5</td>\n",
       "      <td>18.1</td>\n",
       "      <td>202.0</td>\n",
       "      <td>3400.0</td>\n",
       "      <td>female</td>\n",
       "      <td>2009</td>\n",
       "      <td>3.400</td>\n",
       "      <td>20.2</td>\n",
       "      <td>A</td>\n",
       "    </tr>\n",
       "    <tr>\n",
       "      <th>341</th>\n",
       "      <td>969</td>\n",
       "      <td>Chinstrap</td>\n",
       "      <td>Dream</td>\n",
       "      <td>49.6</td>\n",
       "      <td>18.2</td>\n",
       "      <td>193.0</td>\n",
       "      <td>3775.0</td>\n",
       "      <td>male</td>\n",
       "      <td>2009</td>\n",
       "      <td>3.775</td>\n",
       "      <td>19.3</td>\n",
       "      <td>C</td>\n",
       "    </tr>\n",
       "    <tr>\n",
       "      <th>342</th>\n",
       "      <td>635</td>\n",
       "      <td>Chinstrap</td>\n",
       "      <td>Dream</td>\n",
       "      <td>50.8</td>\n",
       "      <td>19.0</td>\n",
       "      <td>210.0</td>\n",
       "      <td>4100.0</td>\n",
       "      <td>male</td>\n",
       "      <td>2009</td>\n",
       "      <td>4.100</td>\n",
       "      <td>21.0</td>\n",
       "      <td>A</td>\n",
       "    </tr>\n",
       "    <tr>\n",
       "      <th>343</th>\n",
       "      <td>883</td>\n",
       "      <td>Chinstrap</td>\n",
       "      <td>Dream</td>\n",
       "      <td>50.2</td>\n",
       "      <td>18.7</td>\n",
       "      <td>198.0</td>\n",
       "      <td>3775.0</td>\n",
       "      <td>female</td>\n",
       "      <td>2009</td>\n",
       "      <td>3.775</td>\n",
       "      <td>19.8</td>\n",
       "      <td>B</td>\n",
       "    </tr>\n",
       "  </tbody>\n",
       "</table>\n",
       "<p>344 rows × 12 columns</p>\n",
       "</div>"
      ],
      "text/plain": [
       "     id_code    species     island  bill_length_mm  bill_depth_mm  \\\n",
       "0        754     Adelie  Torgersen            39.1           18.7   \n",
       "1        214     Adelie  Torgersen            39.5           17.4   \n",
       "2        125     Adelie  Torgersen            40.3           18.0   \n",
       "3        859     Adelie  Torgersen             NaN            NaN   \n",
       "4        381     Adelie  Torgersen            36.7           19.3   \n",
       "..       ...        ...        ...             ...            ...   \n",
       "339      140  Chinstrap      Dream            55.8           19.8   \n",
       "340      183  Chinstrap      Dream            43.5           18.1   \n",
       "341      969  Chinstrap      Dream            49.6           18.2   \n",
       "342      635  Chinstrap      Dream            50.8           19.0   \n",
       "343      883  Chinstrap      Dream            50.2           18.7   \n",
       "\n",
       "     flipper_length_mm  body_mass_g     sex  year  body_mass_kg  \\\n",
       "0                181.0       3750.0    male  2007         3.750   \n",
       "1                186.0       3800.0  female  2007         3.800   \n",
       "2                195.0       3250.0  female  2007         3.250   \n",
       "3                  NaN          NaN     NaN  2007           NaN   \n",
       "4                193.0       3450.0  female  2007         3.450   \n",
       "..                 ...          ...     ...   ...           ...   \n",
       "339              207.0       4000.0    male  2009         4.000   \n",
       "340              202.0       3400.0  female  2009         3.400   \n",
       "341              193.0       3775.0    male  2009         3.775   \n",
       "342              210.0       4100.0    male  2009         4.100   \n",
       "343              198.0       3775.0  female  2009         3.775   \n",
       "\n",
       "     flipper_length_cm observer  \n",
       "0                 18.1        C  \n",
       "1                 18.6        A  \n",
       "2                 19.5        C  \n",
       "3                  NaN        A  \n",
       "4                 19.3        B  \n",
       "..                 ...      ...  \n",
       "339               20.7        C  \n",
       "340               20.2        A  \n",
       "341               19.3        C  \n",
       "342               21.0        A  \n",
       "343               19.8        B  \n",
       "\n",
       "[344 rows x 12 columns]"
      ]
     },
     "execution_count": 36,
     "metadata": {},
     "output_type": "execute_result"
    }
   ],
   "source": [
    "penguins"
   ]
  },
  {
   "cell_type": "markdown",
   "id": "b458b466-6e89-4f67-9f6c-2d0d3a68928e",
   "metadata": {},
   "source": [
    "## Removing columns\n",
    "\n",
    "remove using `drop()`\n",
    "\n",
    "```\n",
    "df=df.drop(columns=col_names)\n",
    "```\n",
    "\n",
    "`col_names` can be a single name or a list of names\n",
    "\n",
    "### Example\n",
    "Need to reassign"
   ]
  },
  {
   "cell_type": "code",
   "execution_count": 37,
   "id": "9e0417d3-622a-4b2b-be94-69306e5477ab",
   "metadata": {
    "tags": []
   },
   "outputs": [
    {
     "name": "stdout",
     "output_type": "stream",
     "text": [
      "Index(['id_code', 'species', 'island', 'bill_length_mm', 'bill_depth_mm',\n",
      "       'sex', 'year', 'body_mass_kg', 'flipper_length_cm', 'observer'],\n",
      "      dtype='object')\n"
     ]
    }
   ],
   "source": [
    "# Want to remove duplicate length and mass measurements\n",
    "penguins=penguins.drop(columns=['flipper_length_mm', 'body_mass_g'])\n",
    "\n",
    "# Confirm results\n",
    "print(penguins.columns)"
   ]
  },
  {
   "cell_type": "markdown",
   "id": "a1c17c95-8c67-4f2c-974a-c0d7c20de3e3",
   "metadata": {},
   "source": [
    "## Updating values\n",
    "\n",
    "Updates specific values in df\n",
    "\n",
    "### A single value\n",
    "\n",
    "Access a single value in a `pandas.DataFrame` using the locators:\n",
    "\n",
    "- `at[]` to select by label\n",
    "- `iat[]` to select by position\n",
    "\n",
    "The syntax for `at()`:\n",
    "```\n",
    "df.at[single_value_index, 'column_name']\n",
    "```\n",
    "\n",
    "Think of it as the equivalent of `loc` when we want to access a single value\n",
    "\n",
    "### Example\n",
    "\n",
    "Update the index of the df to be `id_column`"
   ]
  },
  {
   "cell_type": "code",
   "execution_count": 38,
   "id": "a48ed941-3d09-4d95-b4c4-eed2d4a990f3",
   "metadata": {
    "tags": []
   },
   "outputs": [
    {
     "data": {
      "text/html": [
       "<div>\n",
       "<style scoped>\n",
       "    .dataframe tbody tr th:only-of-type {\n",
       "        vertical-align: middle;\n",
       "    }\n",
       "\n",
       "    .dataframe tbody tr th {\n",
       "        vertical-align: top;\n",
       "    }\n",
       "\n",
       "    .dataframe thead th {\n",
       "        text-align: right;\n",
       "    }\n",
       "</style>\n",
       "<table border=\"1\" class=\"dataframe\">\n",
       "  <thead>\n",
       "    <tr style=\"text-align: right;\">\n",
       "      <th></th>\n",
       "      <th>species</th>\n",
       "      <th>island</th>\n",
       "      <th>bill_length_mm</th>\n",
       "      <th>bill_depth_mm</th>\n",
       "      <th>sex</th>\n",
       "      <th>year</th>\n",
       "      <th>body_mass_kg</th>\n",
       "      <th>flipper_length_cm</th>\n",
       "      <th>observer</th>\n",
       "    </tr>\n",
       "    <tr>\n",
       "      <th>id_code</th>\n",
       "      <th></th>\n",
       "      <th></th>\n",
       "      <th></th>\n",
       "      <th></th>\n",
       "      <th></th>\n",
       "      <th></th>\n",
       "      <th></th>\n",
       "      <th></th>\n",
       "      <th></th>\n",
       "    </tr>\n",
       "  </thead>\n",
       "  <tbody>\n",
       "    <tr>\n",
       "      <th>754</th>\n",
       "      <td>Adelie</td>\n",
       "      <td>Torgersen</td>\n",
       "      <td>39.1</td>\n",
       "      <td>18.7</td>\n",
       "      <td>male</td>\n",
       "      <td>2007</td>\n",
       "      <td>3.750</td>\n",
       "      <td>18.1</td>\n",
       "      <td>C</td>\n",
       "    </tr>\n",
       "    <tr>\n",
       "      <th>214</th>\n",
       "      <td>Adelie</td>\n",
       "      <td>Torgersen</td>\n",
       "      <td>39.5</td>\n",
       "      <td>17.4</td>\n",
       "      <td>female</td>\n",
       "      <td>2007</td>\n",
       "      <td>3.800</td>\n",
       "      <td>18.6</td>\n",
       "      <td>A</td>\n",
       "    </tr>\n",
       "    <tr>\n",
       "      <th>125</th>\n",
       "      <td>Adelie</td>\n",
       "      <td>Torgersen</td>\n",
       "      <td>40.3</td>\n",
       "      <td>18.0</td>\n",
       "      <td>female</td>\n",
       "      <td>2007</td>\n",
       "      <td>3.250</td>\n",
       "      <td>19.5</td>\n",
       "      <td>C</td>\n",
       "    </tr>\n",
       "    <tr>\n",
       "      <th>859</th>\n",
       "      <td>Adelie</td>\n",
       "      <td>Torgersen</td>\n",
       "      <td>NaN</td>\n",
       "      <td>NaN</td>\n",
       "      <td>NaN</td>\n",
       "      <td>2007</td>\n",
       "      <td>NaN</td>\n",
       "      <td>NaN</td>\n",
       "      <td>A</td>\n",
       "    </tr>\n",
       "    <tr>\n",
       "      <th>381</th>\n",
       "      <td>Adelie</td>\n",
       "      <td>Torgersen</td>\n",
       "      <td>36.7</td>\n",
       "      <td>19.3</td>\n",
       "      <td>female</td>\n",
       "      <td>2007</td>\n",
       "      <td>3.450</td>\n",
       "      <td>19.3</td>\n",
       "      <td>B</td>\n",
       "    </tr>\n",
       "    <tr>\n",
       "      <th>...</th>\n",
       "      <td>...</td>\n",
       "      <td>...</td>\n",
       "      <td>...</td>\n",
       "      <td>...</td>\n",
       "      <td>...</td>\n",
       "      <td>...</td>\n",
       "      <td>...</td>\n",
       "      <td>...</td>\n",
       "      <td>...</td>\n",
       "    </tr>\n",
       "    <tr>\n",
       "      <th>140</th>\n",
       "      <td>Chinstrap</td>\n",
       "      <td>Dream</td>\n",
       "      <td>55.8</td>\n",
       "      <td>19.8</td>\n",
       "      <td>male</td>\n",
       "      <td>2009</td>\n",
       "      <td>4.000</td>\n",
       "      <td>20.7</td>\n",
       "      <td>C</td>\n",
       "    </tr>\n",
       "    <tr>\n",
       "      <th>183</th>\n",
       "      <td>Chinstrap</td>\n",
       "      <td>Dream</td>\n",
       "      <td>43.5</td>\n",
       "      <td>18.1</td>\n",
       "      <td>female</td>\n",
       "      <td>2009</td>\n",
       "      <td>3.400</td>\n",
       "      <td>20.2</td>\n",
       "      <td>A</td>\n",
       "    </tr>\n",
       "    <tr>\n",
       "      <th>969</th>\n",
       "      <td>Chinstrap</td>\n",
       "      <td>Dream</td>\n",
       "      <td>49.6</td>\n",
       "      <td>18.2</td>\n",
       "      <td>male</td>\n",
       "      <td>2009</td>\n",
       "      <td>3.775</td>\n",
       "      <td>19.3</td>\n",
       "      <td>C</td>\n",
       "    </tr>\n",
       "    <tr>\n",
       "      <th>635</th>\n",
       "      <td>Chinstrap</td>\n",
       "      <td>Dream</td>\n",
       "      <td>50.8</td>\n",
       "      <td>19.0</td>\n",
       "      <td>male</td>\n",
       "      <td>2009</td>\n",
       "      <td>4.100</td>\n",
       "      <td>21.0</td>\n",
       "      <td>A</td>\n",
       "    </tr>\n",
       "    <tr>\n",
       "      <th>883</th>\n",
       "      <td>Chinstrap</td>\n",
       "      <td>Dream</td>\n",
       "      <td>50.2</td>\n",
       "      <td>18.7</td>\n",
       "      <td>female</td>\n",
       "      <td>2009</td>\n",
       "      <td>3.775</td>\n",
       "      <td>19.8</td>\n",
       "      <td>B</td>\n",
       "    </tr>\n",
       "  </tbody>\n",
       "</table>\n",
       "<p>344 rows × 9 columns</p>\n",
       "</div>"
      ],
      "text/plain": [
       "           species     island  bill_length_mm  bill_depth_mm     sex  year  \\\n",
       "id_code                                                                      \n",
       "754         Adelie  Torgersen            39.1           18.7    male  2007   \n",
       "214         Adelie  Torgersen            39.5           17.4  female  2007   \n",
       "125         Adelie  Torgersen            40.3           18.0  female  2007   \n",
       "859         Adelie  Torgersen             NaN            NaN     NaN  2007   \n",
       "381         Adelie  Torgersen            36.7           19.3  female  2007   \n",
       "...            ...        ...             ...            ...     ...   ...   \n",
       "140      Chinstrap      Dream            55.8           19.8    male  2009   \n",
       "183      Chinstrap      Dream            43.5           18.1  female  2009   \n",
       "969      Chinstrap      Dream            49.6           18.2    male  2009   \n",
       "635      Chinstrap      Dream            50.8           19.0    male  2009   \n",
       "883      Chinstrap      Dream            50.2           18.7  female  2009   \n",
       "\n",
       "         body_mass_kg  flipper_length_cm observer  \n",
       "id_code                                            \n",
       "754             3.750               18.1        C  \n",
       "214             3.800               18.6        A  \n",
       "125             3.250               19.5        C  \n",
       "859               NaN                NaN        A  \n",
       "381             3.450               19.3        B  \n",
       "...               ...                ...      ...  \n",
       "140             4.000               20.7        C  \n",
       "183             3.400               20.2        A  \n",
       "969             3.775               19.3        C  \n",
       "635             4.100               21.0        A  \n",
       "883             3.775               19.8        B  \n",
       "\n",
       "[344 rows x 9 columns]"
      ]
     },
     "execution_count": 38,
     "metadata": {},
     "output_type": "execute_result"
    }
   ],
   "source": [
    "penguins = penguins.set_index('id_code')\n",
    "penguins"
   ]
  },
  {
   "cell_type": "markdown",
   "id": "819ef706-853d-4c83-bba0-04e779e4b156",
   "metadata": {},
   "source": [
    "What was the bill length of the penguin with ID number 859?"
   ]
  },
  {
   "cell_type": "code",
   "execution_count": 39,
   "id": "8eee4803-c89f-4033-a38a-29a92748ee40",
   "metadata": {
    "tags": []
   },
   "outputs": [
    {
     "data": {
      "text/plain": [
       "nan"
      ]
     },
     "execution_count": 39,
     "metadata": {},
     "output_type": "execute_result"
    }
   ],
   "source": [
    "# Check bill length of 859 \n",
    "penguins.at[859, 'bill_length_mm']"
   ]
  },
  {
   "cell_type": "markdown",
   "id": "a420883d-52e3-4973-b7d4-6244c5b9483d",
   "metadata": {},
   "source": [
    "Update this value to 38.3 mm with "
   ]
  },
  {
   "cell_type": "code",
   "execution_count": 40,
   "id": "fee15207-ff06-48db-bc32-a36f4572fde6",
   "metadata": {
    "tags": []
   },
   "outputs": [
    {
     "data": {
      "text/plain": [
       "species                 Adelie\n",
       "island               Torgersen\n",
       "bill_length_mm            38.3\n",
       "bill_depth_mm              NaN\n",
       "sex                        NaN\n",
       "year                      2007\n",
       "body_mass_kg               NaN\n",
       "flipper_length_cm          NaN\n",
       "observer                     A\n",
       "Name: 859, dtype: object"
      ]
     },
     "execution_count": 40,
     "metadata": {},
     "output_type": "execute_result"
    }
   ],
   "source": [
    "penguins.at[859, 'bill_length_mm'] = 38.3\n",
    "\n",
    "# Confirm the value was updated\n",
    "penguins.loc[859]"
   ]
  },
  {
   "cell_type": "markdown",
   "id": "15373cdf-d3fc-4d95-8e06-c9caf316d6ea",
   "metadata": {},
   "source": [
    "If we want to access or update a single value by position we use `iat[]`:\n",
    "\n",
    "```\n",
    "df.iat[index_integer_location, column_integer_location]\n",
    "```\n",
    "\n",
    "Same way you would index values in a matrix \n",
    "\n",
    "We can dynamically get the location of a single column this way:\n",
    "```\n",
    "df.columns.get_loc('column_name')\n",
    "```\n",
    "\n",
    "### Example:\n",
    "a. obtain the location of bill_length_mm \n",
    "\n",
    "b. use iat[] to access the same bill length value for your penguin and revert it back to NA. confirm udpate using iloc"
   ]
  },
  {
   "cell_type": "code",
   "execution_count": 41,
   "id": "96194d97-3e2b-4c55-98bd-cebea155de87",
   "metadata": {
    "tags": []
   },
   "outputs": [
    {
     "data": {
      "text/plain": [
       "2"
      ]
     },
     "execution_count": 41,
     "metadata": {},
     "output_type": "execute_result"
    }
   ],
   "source": [
    "penguins.columns.get_loc('bill_length_mm')"
   ]
  },
  {
   "cell_type": "code",
   "execution_count": 42,
   "id": "0474b01b-a7e2-4d78-8316-e789fc66eaad",
   "metadata": {
    "tags": []
   },
   "outputs": [],
   "source": [
    "penguins.iat[3, 2] = np.nan # Use np to update to NaN"
   ]
  },
  {
   "cell_type": "code",
   "execution_count": 43,
   "id": "7cc359a1-6a23-4989-96bd-feb296694705",
   "metadata": {
    "tags": []
   },
   "outputs": [
    {
     "data": {
      "text/plain": [
       "species                 Adelie\n",
       "island               Torgersen\n",
       "bill_length_mm             NaN\n",
       "bill_depth_mm              NaN\n",
       "sex                        NaN\n",
       "year                      2007\n",
       "body_mass_kg               NaN\n",
       "flipper_length_cm          NaN\n",
       "observer                     A\n",
       "Name: 859, dtype: object"
      ]
     },
     "execution_count": 43,
     "metadata": {},
     "output_type": "execute_result"
    }
   ],
   "source": [
    "penguins.iloc[3]"
   ]
  },
  {
   "cell_type": "markdown",
   "id": "65051158-9423-42c1-9f21-a901dc23895b",
   "metadata": {},
   "source": [
    "#### How Carmen did it in class..."
   ]
  },
  {
   "cell_type": "code",
   "execution_count": 44,
   "id": "951428fa-8e9c-4e5b-8563-097cf89671d0",
   "metadata": {
    "tags": []
   },
   "outputs": [
    {
     "data": {
      "text/plain": [
       "species                 Adelie\n",
       "island               Torgersen\n",
       "bill_length_mm             NaN\n",
       "bill_depth_mm              NaN\n",
       "sex                        NaN\n",
       "year                      2007\n",
       "body_mass_kg               NaN\n",
       "flipper_length_cm          NaN\n",
       "observer                     A\n",
       "Name: 859, dtype: object"
      ]
     },
     "execution_count": 44,
     "metadata": {},
     "output_type": "execute_result"
    }
   ],
   "source": [
    "# Revert to NA using iat\n",
    "bill_length_index = penguins.columns.get_loc('bill_length_mm')\n",
    "penguins.iat[3,bill_length_index] = np.nan\n",
    "\n",
    "# Check\n",
    "penguins.iloc[3]"
   ]
  },
  {
   "cell_type": "markdown",
   "id": "18fec3eb-d299-4264-a0df-8c4daf0fc06e",
   "metadata": {},
   "source": [
    "## Update multiple values in a column\n",
    "\n",
    "### ...using a condition\n",
    "\n",
    "When we need to create a new column where the new values depend on conditions of another column.\n",
    "\n",
    "### Example\n",
    "\n",
    "We want to classify the penguins such that:\n",
    "\n",
    "- penguins body mass <3 : small\n",
    "- penguins body mass >3 and <5 : medium\n",
    "- penguins body mass >=5 and  : large\n",
    "\n",
    "We can add this info to a new column with `numpy.select()`\n"
   ]
  },
  {
   "cell_type": "code",
   "execution_count": 45,
   "id": "0c5a160b-1313-45eb-96e2-9df3e04de83a",
   "metadata": {
    "tags": []
   },
   "outputs": [
    {
     "data": {
      "text/html": [
       "<div>\n",
       "<style scoped>\n",
       "    .dataframe tbody tr th:only-of-type {\n",
       "        vertical-align: middle;\n",
       "    }\n",
       "\n",
       "    .dataframe tbody tr th {\n",
       "        vertical-align: top;\n",
       "    }\n",
       "\n",
       "    .dataframe thead th {\n",
       "        text-align: right;\n",
       "    }\n",
       "</style>\n",
       "<table border=\"1\" class=\"dataframe\">\n",
       "  <thead>\n",
       "    <tr style=\"text-align: right;\">\n",
       "      <th></th>\n",
       "      <th>species</th>\n",
       "      <th>island</th>\n",
       "      <th>bill_length_mm</th>\n",
       "      <th>bill_depth_mm</th>\n",
       "      <th>sex</th>\n",
       "      <th>year</th>\n",
       "      <th>body_mass_kg</th>\n",
       "      <th>flipper_length_cm</th>\n",
       "      <th>observer</th>\n",
       "      <th>size</th>\n",
       "    </tr>\n",
       "    <tr>\n",
       "      <th>id_code</th>\n",
       "      <th></th>\n",
       "      <th></th>\n",
       "      <th></th>\n",
       "      <th></th>\n",
       "      <th></th>\n",
       "      <th></th>\n",
       "      <th></th>\n",
       "      <th></th>\n",
       "      <th></th>\n",
       "      <th></th>\n",
       "    </tr>\n",
       "  </thead>\n",
       "  <tbody>\n",
       "    <tr>\n",
       "      <th>754</th>\n",
       "      <td>Adelie</td>\n",
       "      <td>Torgersen</td>\n",
       "      <td>39.1</td>\n",
       "      <td>18.7</td>\n",
       "      <td>male</td>\n",
       "      <td>2007</td>\n",
       "      <td>3.75</td>\n",
       "      <td>18.1</td>\n",
       "      <td>C</td>\n",
       "      <td>medium</td>\n",
       "    </tr>\n",
       "    <tr>\n",
       "      <th>214</th>\n",
       "      <td>Adelie</td>\n",
       "      <td>Torgersen</td>\n",
       "      <td>39.5</td>\n",
       "      <td>17.4</td>\n",
       "      <td>female</td>\n",
       "      <td>2007</td>\n",
       "      <td>3.80</td>\n",
       "      <td>18.6</td>\n",
       "      <td>A</td>\n",
       "      <td>medium</td>\n",
       "    </tr>\n",
       "    <tr>\n",
       "      <th>125</th>\n",
       "      <td>Adelie</td>\n",
       "      <td>Torgersen</td>\n",
       "      <td>40.3</td>\n",
       "      <td>18.0</td>\n",
       "      <td>female</td>\n",
       "      <td>2007</td>\n",
       "      <td>3.25</td>\n",
       "      <td>19.5</td>\n",
       "      <td>C</td>\n",
       "      <td>medium</td>\n",
       "    </tr>\n",
       "    <tr>\n",
       "      <th>859</th>\n",
       "      <td>Adelie</td>\n",
       "      <td>Torgersen</td>\n",
       "      <td>NaN</td>\n",
       "      <td>NaN</td>\n",
       "      <td>NaN</td>\n",
       "      <td>2007</td>\n",
       "      <td>NaN</td>\n",
       "      <td>NaN</td>\n",
       "      <td>A</td>\n",
       "      <td>nan</td>\n",
       "    </tr>\n",
       "    <tr>\n",
       "      <th>381</th>\n",
       "      <td>Adelie</td>\n",
       "      <td>Torgersen</td>\n",
       "      <td>36.7</td>\n",
       "      <td>19.3</td>\n",
       "      <td>female</td>\n",
       "      <td>2007</td>\n",
       "      <td>3.45</td>\n",
       "      <td>19.3</td>\n",
       "      <td>B</td>\n",
       "      <td>medium</td>\n",
       "    </tr>\n",
       "  </tbody>\n",
       "</table>\n",
       "</div>"
      ],
      "text/plain": [
       "        species     island  bill_length_mm  bill_depth_mm     sex  year  \\\n",
       "id_code                                                                   \n",
       "754      Adelie  Torgersen            39.1           18.7    male  2007   \n",
       "214      Adelie  Torgersen            39.5           17.4  female  2007   \n",
       "125      Adelie  Torgersen            40.3           18.0  female  2007   \n",
       "859      Adelie  Torgersen             NaN            NaN     NaN  2007   \n",
       "381      Adelie  Torgersen            36.7           19.3  female  2007   \n",
       "\n",
       "         body_mass_kg  flipper_length_cm observer    size  \n",
       "id_code                                                    \n",
       "754              3.75               18.1        C  medium  \n",
       "214              3.80               18.6        A  medium  \n",
       "125              3.25               19.5        C  medium  \n",
       "859               NaN                NaN        A     nan  \n",
       "381              3.45               19.3        B  medium  "
      ]
     },
     "execution_count": 45,
     "metadata": {},
     "output_type": "execute_result"
    }
   ],
   "source": [
    "# Create a list with the conditions\n",
    "conditions = [penguins.body_mass_kg < 3,\n",
    "             (3<=penguins.body_mass_kg) & (penguins.body_mass_kg<5),\n",
    "             5<=penguins.body_mass_kg]\n",
    "\n",
    "# Create a list of choices\n",
    "choices = ['small', 'medium', 'large']\n",
    "\n",
    "# Add selections\n",
    "penguins['size'] = np.select(conditions,\n",
    "                            choices,\n",
    "                            default=np.nan) #values for anything outside conditions\n",
    "\n",
    "penguins.head()"
   ]
  },
  {
   "cell_type": "markdown",
   "id": "23c70a1c-6c7b-4cbf-af63-45a3de87dd1d",
   "metadata": {},
   "source": [
    "## By seleting the values and then updating\n",
    "\n",
    "Update some values in a column by selecting this data with loc of iloc \n",
    "\n",
    "The general syntax for updating with loc:\n",
    "```\n",
    "df.loc[row_selection, column_name] = new_values\n",
    "```\n",
    "where:\n",
    "\n",
    "- `row_selection`: the rows we want to update, any expression that gives us a boolean pandas series\n",
    "- `col_name` : a single column name\n",
    "- `new_values` : the new values we want. If using multiple values, must be a list or series of the same length as the number of rows selected\n",
    "\n",
    "Using `loc()` in assignment modifies data frame direcly without need for reassignment\n",
    "\n",
    "### Example\n",
    "\n",
    "Update the male values in sex column to be the letter M"
   ]
  },
  {
   "cell_type": "code",
   "execution_count": 46,
   "id": "e44d0197-56d5-4015-9860-c39773a119fa",
   "metadata": {
    "tags": []
   },
   "outputs": [
    {
     "name": "stdout",
     "output_type": "stream",
     "text": [
      "['M' 'female' nan]\n"
     ]
    }
   ],
   "source": [
    "# Select rows w sex=male and simplify\n",
    "penguins.loc[penguins.sex=='male', 'sex'] = 'M'\n",
    "\n",
    "# Check changes in sex columns specifically\n",
    "print(penguins.sex.unique())"
   ]
  },
  {
   "cell_type": "markdown",
   "id": "23cc442b-e351-4971-a465-719effc0d195",
   "metadata": {},
   "source": [
    "## Best practices\n",
    "\n",
    "We want to similarly update the femal values in sex column to F. We might try to do it this way:"
   ]
  },
  {
   "cell_type": "code",
   "execution_count": 47,
   "id": "084eff1c-318a-466b-90c2-7adc966dd178",
   "metadata": {
    "tags": []
   },
   "outputs": [],
   "source": [
    "# Select rows where sex=female and attempt to update values\n",
    "# penguins[penguins.sex=='female']['sex'] = 'F' # This raises a SettingWithCopyWarning"
   ]
  },
  {
   "cell_type": "markdown",
   "id": "285a3a14-ee34-4f60-9650-393d56b795ab",
   "metadata": {},
   "source": [
    "The use of double brackets `[][]` is called **chained indexing**\n",
    "\n",
    "When we select the data we want to update using chained indexing instead of `loc[]`, we get a `SettingWithCopyWarning`\n",
    "\n",
    "The bug that this warning tells us about is that we did not update our dataframe"
   ]
  },
  {
   "cell_type": "code",
   "execution_count": 48,
   "id": "bf49396a-e9cf-4c8b-859e-f8e6b23d929c",
   "metadata": {
    "tags": []
   },
   "outputs": [
    {
     "data": {
      "text/plain": [
       "array(['M', 'female', nan], dtype=object)"
      ]
     },
     "execution_count": 48,
     "metadata": {},
     "output_type": "execute_result"
    }
   ],
   "source": [
    "penguins['sex'].unique()"
   ]
  },
  {
   "cell_type": "markdown",
   "id": "72c9a7f3-f2ac-4f3a-b9be-9cafa7b1aecb",
   "metadata": {},
   "source": [
    "**Avoid chained `[][]` and use `loc[]` instead**\n",
    "\n",
    "This warning often arises when chained indexing\n",
    "\n",
    "## Check-in\n",
    "update the `female` value in penguins df without using chain indexing. Confirm"
   ]
  },
  {
   "cell_type": "code",
   "execution_count": 49,
   "id": "416b483c-1184-44c1-9b39-cde162f79a4c",
   "metadata": {
    "tags": []
   },
   "outputs": [
    {
     "data": {
      "text/plain": [
       "array(['M', 'female', nan], dtype=object)"
      ]
     },
     "execution_count": 49,
     "metadata": {},
     "output_type": "execute_result"
    }
   ],
   "source": [
    "# No chain indexing\n",
    "penguins.loc[penguins.sex=='female', 'sec'] = 'F'\n",
    "\n",
    "penguins['sex'].unique()"
   ]
  },
  {
   "cell_type": "markdown",
   "id": "bb2cbf53-62fe-4080-bb5e-14f4c21d3e1e",
   "metadata": {},
   "source": [
    "# Group_by checkin\n",
    "\n",
    "Use the max() method for pands.DataFrames to calculate the maximum value of a penguin’s body mass by year and species.\n",
    "\n",
    "Use (1) to display the highest body masses per year and species as a bar plot in descending order."
   ]
  },
  {
   "cell_type": "code",
   "execution_count": 50,
   "id": "474a6be3-73f3-4b38-bfd3-85e817c941d1",
   "metadata": {
    "tags": []
   },
   "outputs": [
    {
     "data": {
      "text/plain": [
       "year  species  \n",
       "2007  Adelie       4.675\n",
       "      Chinstrap    4.400\n",
       "      Gentoo       6.300\n",
       "2008  Adelie       4.700\n",
       "      Chinstrap    4.800\n",
       "      Gentoo       6.000\n",
       "2009  Adelie       4.775\n",
       "      Chinstrap    4.450\n",
       "      Gentoo       6.000\n",
       "Name: body_mass_kg, dtype: float64"
      ]
     },
     "execution_count": 50,
     "metadata": {},
     "output_type": "execute_result"
    }
   ],
   "source": [
    "penguins.groupby(['year', 'species']).body_mass_kg.max()"
   ]
  },
  {
   "cell_type": "code",
   "execution_count": 51,
   "id": "c35d4df1-d754-45f0-a5b3-33c10538997c",
   "metadata": {
    "tags": []
   },
   "outputs": [
    {
     "data": {
      "text/plain": [
       "Text(0.5, 0, 'Body mass (kg)')"
      ]
     },
     "execution_count": 51,
     "metadata": {},
     "output_type": "execute_result"
    },
    {
     "data": {
      "image/png": "[encoded data removed]",
      "text/plain": [
       "<Figure size 640x480 with 1 Axes>"
      ]
     },
     "metadata": {},
     "output_type": "display_data"
    }
   ],
   "source": [
    "(penguins.groupby(['year', 'species'])\n",
    "         .body_mass_kg\n",
    "         .max()\n",
    "         .sort_values()\n",
    "         .plot(kind=\"barh\", \n",
    "               title = 'Penguin body mass by species and year',\n",
    "               xlabel = ('Year, Species'))\n",
    "         .set_xlabel(xlabel = \"Body mass (kg)\")\n",
    ")"
   ]
  },
  {
   "cell_type": "markdown",
   "id": "b84eead8-7580-4ecb-9f08-a8b74ab317bb",
   "metadata": {},
   "source": [
    "The `SettingWithCopyWarning` comes up betcause some `pandas` operations returns view while others return a copy\n",
    "\n",
    "- **views** are actual subsets of the original data, when we update them, we update the og df\n",
    "- **copies** are unique objects, they don't modify og df\n",
    "\n"
   ]
  },
  {
   "cell_type": "markdown",
   "id": "999cecb7-55ce-45c8-8a43-69e05b686c38",
   "metadata": {},
   "source": [
    "### Example\n",
    "\n",
    "We only want data from biscoe island, want to add new column w analyses"
   ]
  },
  {
   "cell_type": "code",
   "execution_count": 52,
   "id": "4108c41d-4f5e-4c42-b0a2-1a1d0075c8fb",
   "metadata": {
    "tags": []
   },
   "outputs": [
    {
     "name": "stderr",
     "output_type": "stream",
     "text": [
      "/tmp/ipykernel_1707608/1477197171.py:7: SettingWithCopyWarning: \n",
      "A value is trying to be set on a copy of a slice from a DataFrame.\n",
      "Try using .loc[row_indexer,col_indexer] = value instead\n",
      "\n",
      "See the caveats in the documentation: https://pandas.pydata.org/pandas-docs/stable/user_guide/indexing.html#returning-a-view-versus-a-copy\n",
      "  biscoe['sample_col'] = 100 # Raises SettingWithCopyWarning\n"
     ]
    }
   ],
   "source": [
    "# Select penguins from biscoe island\n",
    "biscoe = penguins[penguins.island == 'Biscoe']\n",
    "\n",
    "# ... Other analyses\n",
    "\n",
    "# Add a column\n",
    "biscoe['sample_col'] = 100 # Raises SettingWithCopyWarning"
   ]
  },
  {
   "cell_type": "markdown",
   "id": "f914da5d-e32d-4fb4-ba9d-419a85090c3c",
   "metadata": {},
   "source": [
    "To fix this, we can **take control of the copy-view situation and explicitly ask for a copy of the dataset when subsetting**. Use `copy()` method to do this:"
   ]
  },
  {
   "cell_type": "code",
   "execution_count": 53,
   "id": "395ad9b8-f097-48cd-af33-5870a7fc591c",
   "metadata": {
    "tags": []
   },
   "outputs": [],
   "source": [
    "# Select penguins from biscoe island\n",
    "biscoe = penguins[penguins.island == 'Biscoe'].copy()\n",
    "\n",
    "# ... Other analyses\n",
    "\n",
    "# Add a column\n",
    "biscoe['sample_col'] = 100 # No SettingWithCopyWarning"
   ]
  },
  {
   "cell_type": "code",
   "execution_count": 54,
   "id": "347dc3e8-7557-4523-8b4a-959b4ba25d7f",
   "metadata": {
    "tags": []
   },
   "outputs": [
    {
     "data": {
      "text/html": [
       "<div>\n",
       "<style scoped>\n",
       "    .dataframe tbody tr th:only-of-type {\n",
       "        vertical-align: middle;\n",
       "    }\n",
       "\n",
       "    .dataframe tbody tr th {\n",
       "        vertical-align: top;\n",
       "    }\n",
       "\n",
       "    .dataframe thead th {\n",
       "        text-align: right;\n",
       "    }\n",
       "</style>\n",
       "<table border=\"1\" class=\"dataframe\">\n",
       "  <thead>\n",
       "    <tr style=\"text-align: right;\">\n",
       "      <th></th>\n",
       "      <th>species</th>\n",
       "      <th>island</th>\n",
       "      <th>bill_length_mm</th>\n",
       "      <th>bill_depth_mm</th>\n",
       "      <th>sex</th>\n",
       "      <th>year</th>\n",
       "      <th>body_mass_kg</th>\n",
       "      <th>flipper_length_cm</th>\n",
       "      <th>observer</th>\n",
       "      <th>size</th>\n",
       "      <th>sec</th>\n",
       "      <th>sample_col</th>\n",
       "    </tr>\n",
       "    <tr>\n",
       "      <th>id_code</th>\n",
       "      <th></th>\n",
       "      <th></th>\n",
       "      <th></th>\n",
       "      <th></th>\n",
       "      <th></th>\n",
       "      <th></th>\n",
       "      <th></th>\n",
       "      <th></th>\n",
       "      <th></th>\n",
       "      <th></th>\n",
       "      <th></th>\n",
       "      <th></th>\n",
       "    </tr>\n",
       "  </thead>\n",
       "  <tbody>\n",
       "    <tr>\n",
       "      <th>338</th>\n",
       "      <td>Adelie</td>\n",
       "      <td>Biscoe</td>\n",
       "      <td>37.8</td>\n",
       "      <td>18.3</td>\n",
       "      <td>female</td>\n",
       "      <td>2007</td>\n",
       "      <td>3.40</td>\n",
       "      <td>17.4</td>\n",
       "      <td>A</td>\n",
       "      <td>medium</td>\n",
       "      <td>F</td>\n",
       "      <td>100</td>\n",
       "    </tr>\n",
       "    <tr>\n",
       "      <th>617</th>\n",
       "      <td>Adelie</td>\n",
       "      <td>Biscoe</td>\n",
       "      <td>37.7</td>\n",
       "      <td>18.7</td>\n",
       "      <td>M</td>\n",
       "      <td>2007</td>\n",
       "      <td>3.60</td>\n",
       "      <td>18.0</td>\n",
       "      <td>C</td>\n",
       "      <td>medium</td>\n",
       "      <td>NaN</td>\n",
       "      <td>100</td>\n",
       "    </tr>\n",
       "    <tr>\n",
       "      <th>716</th>\n",
       "      <td>Adelie</td>\n",
       "      <td>Biscoe</td>\n",
       "      <td>35.9</td>\n",
       "      <td>19.2</td>\n",
       "      <td>female</td>\n",
       "      <td>2007</td>\n",
       "      <td>3.80</td>\n",
       "      <td>18.9</td>\n",
       "      <td>C</td>\n",
       "      <td>medium</td>\n",
       "      <td>F</td>\n",
       "      <td>100</td>\n",
       "    </tr>\n",
       "    <tr>\n",
       "      <th>127</th>\n",
       "      <td>Adelie</td>\n",
       "      <td>Biscoe</td>\n",
       "      <td>38.2</td>\n",
       "      <td>18.1</td>\n",
       "      <td>M</td>\n",
       "      <td>2007</td>\n",
       "      <td>3.95</td>\n",
       "      <td>18.5</td>\n",
       "      <td>B</td>\n",
       "      <td>medium</td>\n",
       "      <td>NaN</td>\n",
       "      <td>100</td>\n",
       "    </tr>\n",
       "    <tr>\n",
       "      <th>674</th>\n",
       "      <td>Adelie</td>\n",
       "      <td>Biscoe</td>\n",
       "      <td>38.8</td>\n",
       "      <td>17.2</td>\n",
       "      <td>M</td>\n",
       "      <td>2007</td>\n",
       "      <td>3.80</td>\n",
       "      <td>18.0</td>\n",
       "      <td>C</td>\n",
       "      <td>medium</td>\n",
       "      <td>NaN</td>\n",
       "      <td>100</td>\n",
       "    </tr>\n",
       "  </tbody>\n",
       "</table>\n",
       "</div>"
      ],
      "text/plain": [
       "        species  island  bill_length_mm  bill_depth_mm     sex  year  \\\n",
       "id_code                                                                \n",
       "338      Adelie  Biscoe            37.8           18.3  female  2007   \n",
       "617      Adelie  Biscoe            37.7           18.7       M  2007   \n",
       "716      Adelie  Biscoe            35.9           19.2  female  2007   \n",
       "127      Adelie  Biscoe            38.2           18.1       M  2007   \n",
       "674      Adelie  Biscoe            38.8           17.2       M  2007   \n",
       "\n",
       "         body_mass_kg  flipper_length_cm observer    size  sec  sample_col  \n",
       "id_code                                                                     \n",
       "338              3.40               17.4        A  medium    F         100  \n",
       "617              3.60               18.0        C  medium  NaN         100  \n",
       "716              3.80               18.9        C  medium    F         100  \n",
       "127              3.95               18.5        B  medium  NaN         100  \n",
       "674              3.80               18.0        C  medium  NaN         100  "
      ]
     },
     "execution_count": 54,
     "metadata": {},
     "output_type": "execute_result"
    }
   ],
   "source": [
    "biscoe.head()"
   ]
  },
  {
   "cell_type": "code",
   "execution_count": 55,
   "id": "936cca89-b2c4-4185-9f9d-d5fc78267c8c",
   "metadata": {
    "tags": []
   },
   "outputs": [
    {
     "name": "stdout",
     "output_type": "stream",
     "text": [
      "sample_col\n"
     ]
    },
    {
     "data": {
      "text/plain": [
       "False"
      ]
     },
     "execution_count": 55,
     "metadata": {},
     "output_type": "execute_result"
    }
   ],
   "source": [
    "print('sample_col') in penguins.columns"
   ]
  },
  {
   "cell_type": "markdown",
   "id": "9653890e-c1fc-42a9-934d-5a51d85537bf",
   "metadata": {},
   "source": [
    "False, so did not modify initial data"
   ]
  },
  {
   "cell_type": "code",
   "execution_count": null,
   "id": "05f0f552-731d-42fe-bb0f-ed7cf3eef32a",
   "metadata": {},
   "outputs": [],
   "source": []
  }
 ],
 "metadata": {
  "kernelspec": {
   "display_name": "Anaconda 3 (Base)",
   "language": "python",
   "name": "base"
  },
  "language_info": {
   "codemirror_mode": {
    "name": "ipython",
    "version": 3
   },
   "file_extension": ".py",
   "mimetype": "text/x-python",
   "name": "python",
   "nbconvert_exporter": "python",
   "pygments_lexer": "ipython3",
   "version": "3.9.13"
  }
 },
 "nbformat": 4,
 "nbformat_minor": 5
}
