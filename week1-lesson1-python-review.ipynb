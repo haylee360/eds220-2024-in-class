{
 "cells": [
  {
   "cell_type": "markdown",
   "id": "7996d531-d87b-47a9-85fd-73701774b775",
   "metadata": {},
   "source": [
    "# Week 1 Lesson 1 Python Review\n",
    "\n",
    "Short review of core concepts in Python exemplified by objects in the Numpy library.\n",
    "\n",
    "- Recall basic vocabulary\n",
    "- Practice markdown syntax\n",
    "\n",
    "## Libraries and packages\n",
    "\n",
    "**Library:** collection of code that we can use to perform a specific task in our programs. It can be one or multiple files.\n",
    "\n",
    "**NumPy:**\n",
    "\n",
    "- Core library for numerical computing\n",
    "- Many libraries use NumPy arrays as building blocks\n",
    "- Computations on NumPy objects are optimized for speed an memory usage\n",
    "\n",
    "Let's import NumPy with its **standard abbreviation** `np`:"
   ]
  },
  {
   "cell_type": "code",
   "execution_count": 1,
   "id": "3cfe5fe9-a6d3-400a-b806-7fcb39297468",
   "metadata": {
    "tags": []
   },
   "outputs": [],
   "source": [
    "import numpy as np"
   ]
  },
  {
   "cell_type": "markdown",
   "id": "48e7ee24-50dc-43a5-a077-743898c475a3",
   "metadata": {},
   "source": [
    "## Variables\n",
    "\n",
    "**Variable:** a name we assign to a particular object in python\n",
    "\n",
    "Example:"
   ]
  },
  {
   "cell_type": "code",
   "execution_count": 3,
   "id": "ade44d8a-bf83-4362-809b-798a61d7592d",
   "metadata": {
    "tags": []
   },
   "outputs": [],
   "source": [
    "# Assign a small array to a variable a\n",
    "a = np.array([[1, 1, 2], [3, 5, 8]])"
   ]
  },
  {
   "cell_type": "markdown",
   "id": "fdc6bc38-cbf5-49e5-86cb-91b88a10d316",
   "metadata": {},
   "source": [
    "To view a variables value from jupyer nb:"
   ]
  },
  {
   "cell_type": "code",
   "execution_count": 4,
   "id": "55ef4311-b5ce-4e1c-a324-668877cbd52e",
   "metadata": {
    "tags": []
   },
   "outputs": [
    {
     "data": {
      "text/plain": [
       "array([[1, 1, 2],\n",
       "       [3, 5, 8]])"
      ]
     },
     "execution_count": 4,
     "metadata": {},
     "output_type": "execute_result"
    }
   ],
   "source": [
    "# Run cell with variable name to show value\n",
    "a"
   ]
  },
  {
   "cell_type": "code",
   "execution_count": 5,
   "id": "0bd7a84a-42dc-42db-987d-6fcbf74dd1f8",
   "metadata": {
    "tags": []
   },
   "outputs": [
    {
     "name": "stdout",
     "output_type": "stream",
     "text": [
      "[[1 1 2]\n",
      " [3 5 8]]\n"
     ]
    }
   ],
   "source": [
    "# Use `print` function to print value\n",
    "print(a)"
   ]
  },
  {
   "cell_type": "code",
   "execution_count": null,
   "id": "da3df5ca-f1ee-49e5-9ea5-d73c357ab6d9",
   "metadata": {},
   "outputs": [],
   "source": []
  }
 ],
 "metadata": {
  "kernelspec": {
   "display_name": "Anaconda 3 (Base)",
   "language": "python",
   "name": "base"
  },
  "language_info": {
   "codemirror_mode": {
    "name": "ipython",
    "version": 3
   },
   "file_extension": ".py",
   "mimetype": "text/x-python",
   "name": "python",
   "nbconvert_exporter": "python",
   "pygments_lexer": "ipython3",
   "version": "3.9.13"
  }
 },
 "nbformat": 4,
 "nbformat_minor": 5
}
