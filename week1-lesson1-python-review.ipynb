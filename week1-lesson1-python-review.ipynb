{
 "cells": [
  {
   "cell_type": "markdown",
   "id": "7996d531-d87b-47a9-85fd-73701774b775",
   "metadata": {},
   "source": [
    "# Week 1 Lesson 1 Python Review\n",
    "\n",
    "Short review of core concepts in Python exemplified by objects in the Numpy library.\n",
    "\n",
    "- Recall basic vocabulary\n",
    "- Practice markdown syntax\n",
    "\n",
    "## Libraries and packages\n",
    "\n",
    "**Library:** collection of code that we can use to perform a specific task in our programs. It can be one or multiple files.\n",
    "\n",
    "**NumPy:**\n",
    "\n",
    "- Core library for numerical computing\n",
    "- Many libraries use NumPy arrays as building blocks\n",
    "- Computations on NumPy objects are optimized for speed an memory usage\n",
    "\n",
    "Let's import NumPy with its **standard abbreviation** `np`:"
   ]
  },
  {
   "cell_type": "code",
   "execution_count": 1,
   "id": "3cfe5fe9-a6d3-400a-b806-7fcb39297468",
   "metadata": {
    "tags": []
   },
   "outputs": [],
   "source": [
    "import numpy as np"
   ]
  },
  {
   "cell_type": "markdown",
   "id": "48e7ee24-50dc-43a5-a077-743898c475a3",
   "metadata": {},
   "source": [
    "## Variables\n",
    "\n",
    "**Variable:** a name we assign to a particular object in python\n",
    "\n",
    "Example:"
   ]
  },
  {
   "cell_type": "code",
   "execution_count": 3,
   "id": "ade44d8a-bf83-4362-809b-798a61d7592d",
   "metadata": {
    "tags": []
   },
   "outputs": [],
   "source": [
    "# Assign a small array to a variable a\n",
    "a = np.array([[1, 1, 2], [3, 5, 8]])"
   ]
  },
  {
   "cell_type": "markdown",
   "id": "fdc6bc38-cbf5-49e5-86cb-91b88a10d316",
   "metadata": {},
   "source": [
    "To view a variables value from jupyer nb:"
   ]
  },
  {
   "cell_type": "code",
   "execution_count": 4,
   "id": "55ef4311-b5ce-4e1c-a324-668877cbd52e",
   "metadata": {
    "tags": []
   },
   "outputs": [
    {
     "data": {
      "text/plain": [
       "array([[1, 1, 2],\n",
       "       [3, 5, 8]])"
      ]
     },
     "execution_count": 4,
     "metadata": {},
     "output_type": "execute_result"
    }
   ],
   "source": [
    "# Run cell with variable name to show value\n",
    "a"
   ]
  },
  {
   "cell_type": "code",
   "execution_count": 5,
   "id": "0bd7a84a-42dc-42db-987d-6fcbf74dd1f8",
   "metadata": {
    "tags": []
   },
   "outputs": [
    {
     "name": "stdout",
     "output_type": "stream",
     "text": [
      "[[1 1 2]\n",
      " [3 5 8]]\n"
     ]
    }
   ],
   "source": [
    "# Use `print` function to print value\n",
    "print(a)"
   ]
  },
  {
   "cell_type": "markdown",
   "id": "441f9f8e-92d5-4af4-b413-268bcec1f1f3",
   "metadata": {},
   "source": [
    "# Pandas Series and Data Frames"
   ]
  },
  {
   "cell_type": "code",
   "execution_count": 2,
   "id": "d42ca813-5f2d-40f8-9818-b1e071758581",
   "metadata": {
    "tags": []
   },
   "outputs": [],
   "source": [
    "import pandas as pd\n",
    "import numpy as np"
   ]
  },
  {
   "cell_type": "markdown",
   "id": "ac5f8a73-9c7b-4e7c-96ea-e93825713844",
   "metadata": {},
   "source": [
    "The first core object of pandas is the series. A series is a one-dimensional array of indexed data.\n",
    "\n",
    "A pandas.Series having an index is the main difference between a pandas.Series and a NumPy array. Let’s see the difference:"
   ]
  },
  {
   "cell_type": "code",
   "execution_count": 2,
   "id": "143f0b39-597e-4656-a6d7-76145029ae44",
   "metadata": {
    "tags": []
   },
   "outputs": [
    {
     "name": "stdout",
     "output_type": "stream",
     "text": [
      "<class 'numpy.ndarray'>\n",
      "[-2.46016621  0.63789792 -0.51552152  0.81907695] \n",
      "\n",
      "<class 'pandas.core.series.Series'>\n",
      "0   -2.460166\n",
      "1    0.637898\n",
      "2   -0.515522\n",
      "3    0.819077\n",
      "dtype: float64\n"
     ]
    }
   ],
   "source": [
    "# A numpy array\n",
    "arr = np.random.randn(4) # random values from std normal distribution\n",
    "print(type(arr))\n",
    "print(arr, \"\\n\")\n",
    "\n",
    "# A pandas series made from the previous array\n",
    "s = pd.Series(arr)\n",
    "print(type(s))\n",
    "print(s)"
   ]
  },
  {
   "cell_type": "markdown",
   "id": "f06b5fe2-a8b1-4122-b5e1-25d17fcc8ec7",
   "metadata": {},
   "source": [
    "## Creating a pandas.Series\n",
    "\n",
    "The basic method to create a pandas.Series is to call\n",
    "\n",
    "\n",
    "`s = pd.Series(data, index=index)`\n",
    "\n",
    "The data parameter can be:\n",
    "\n",
    "a list or NumPy array,\n",
    "a Python dictionary, or\n",
    "a single number, boolean (True/False), or string."
   ]
  },
  {
   "cell_type": "code",
   "execution_count": 4,
   "id": "192bad8d-62c6-45bc-a818-e2e3d4b2480b",
   "metadata": {
    "tags": []
   },
   "outputs": [
    {
     "data": {
      "text/plain": [
       "2023    0\n",
       "2024    1\n",
       "2025    2\n",
       "dtype: int64"
      ]
     },
     "execution_count": 4,
     "metadata": {},
     "output_type": "execute_result"
    }
   ],
   "source": [
    "# A series from a numpy array \n",
    "pd.Series(np.arange(3), index=[2023, 2024, 2025])"
   ]
  },
  {
   "cell_type": "code",
   "execution_count": 1,
   "id": "dcef5c37-1f58-4041-82e0-31fe90bd5187",
   "metadata": {
    "tags": []
   },
   "outputs": [
    {
     "ename": "NameError",
     "evalue": "name 'pd' is not defined",
     "output_type": "error",
     "traceback": [
      "\u001b[0;31m---------------------------------------------------------------------------\u001b[0m",
      "\u001b[0;31mNameError\u001b[0m                                 Traceback (most recent call last)",
      "\u001b[0;32m/tmp/ipykernel_1504898/2798926662.py\u001b[0m in \u001b[0;36m<module>\u001b[0;34m\u001b[0m\n\u001b[1;32m      1\u001b[0m \u001b[0;31m# A series from a list of strings with default index\u001b[0m\u001b[0;34m\u001b[0m\u001b[0;34m\u001b[0m\u001b[0m\n\u001b[0;32m----> 2\u001b[0;31m \u001b[0mpd\u001b[0m\u001b[0;34m.\u001b[0m\u001b[0mSeries\u001b[0m\u001b[0;34m(\u001b[0m\u001b[0;34m[\u001b[0m\u001b[0;34m'EDS 220'\u001b[0m\u001b[0;34m,\u001b[0m \u001b[0;34m'EDS 222'\u001b[0m\u001b[0;34m,\u001b[0m \u001b[0;34m'EDS 223'\u001b[0m\u001b[0;34m,\u001b[0m \u001b[0;34m'EDS 242'\u001b[0m\u001b[0;34m]\u001b[0m\u001b[0;34m)\u001b[0m\u001b[0;34m\u001b[0m\u001b[0;34m\u001b[0m\u001b[0m\n\u001b[0m",
      "\u001b[0;31mNameError\u001b[0m: name 'pd' is not defined"
     ]
    }
   ],
   "source": [
    "# A series from a list of strings with default index\n",
    "pd.Series(['EDS 220', 'EDS 222', 'EDS 223', 'EDS 242'])"
   ]
  },
  {
   "cell_type": "code",
   "execution_count": 9,
   "id": "b10dcaa2-d853-44d1-b004-2aa2e53db5f1",
   "metadata": {
    "tags": []
   },
   "outputs": [
    {
     "data": {
      "text/plain": [
       "key_0    2\n",
       "key_1    3\n",
       "key_2    5\n",
       "dtype: object"
      ]
     },
     "execution_count": 9,
     "metadata": {},
     "output_type": "execute_result"
    }
   ],
   "source": [
    "# Panda series from a dictionary\n",
    "# Construct dictionary\n",
    "d = {'key_0':2, 'key_1':'3', 'key_2':5}\n",
    "\n",
    "# Initialize series using a dictionary\n",
    "pd.Series(d)"
   ]
  },
  {
   "cell_type": "code",
   "execution_count": 8,
   "id": "6c860b0d-3679-464f-ba42-74408e357061",
   "metadata": {
    "tags": []
   },
   "outputs": [
    {
     "data": {
      "text/plain": [
       "A    3.0\n",
       "B    3.0\n",
       "C    3.0\n",
       "dtype: float64"
      ]
     },
     "execution_count": 8,
     "metadata": {},
     "output_type": "execute_result"
    }
   ],
   "source": [
    "# Panda series from a single value\n",
    "pd.Series(3.0, index = ['A', 'B', 'C'])"
   ]
  },
  {
   "cell_type": "markdown",
   "id": "4abf3b7a-df7c-4c68-95d6-befe57e4a072",
   "metadata": {},
   "source": [
    "## Simple operations\n"
   ]
  },
  {
   "cell_type": "code",
   "execution_count": 10,
   "id": "39161b66-641f-4014-bb3c-881650b9b80a",
   "metadata": {
    "tags": []
   },
   "outputs": [
    {
     "name": "stdout",
     "output_type": "stream",
     "text": [
      "Andrea      9.8\n",
      "Beth        7.3\n",
      "Carolina    6.5\n",
      "dtype: float64 \n",
      "\n",
      "Andrea      3.637971e+42\n",
      "Beth        5.052394e+31\n",
      "Carolina    1.694889e+28\n",
      "dtype: float64 \n",
      "\n",
      "Andrea      98\n",
      "Beth        73\n",
      "Carolina    65\n",
      "dtype: int64\n"
     ]
    }
   ],
   "source": [
    "# Define a series\n",
    "s = pd.Series([98,73,65],index=['Andrea', 'Beth', 'Carolina'])\n",
    "\n",
    "# Divide each element in series by 10\n",
    "print(s /10, '\\n')\n",
    "\n",
    "# Take the exponential of each element in series\n",
    "print(np.exp(s), '\\n')\n",
    "\n",
    "# Original series is unchanged\n",
    "print(s)\n"
   ]
  },
  {
   "cell_type": "markdown",
   "id": "4d8a81ec-3726-4cff-9817-ec110ec27ef5",
   "metadata": {},
   "source": [
    "We can also produce new pandas.Series with True/False values indicating whether the elements in a series satisfy a condition or not:"
   ]
  },
  {
   "cell_type": "code",
   "execution_count": 11,
   "id": "e4509a7d-a8a9-43cc-a5f6-55ec4d1ccc3f",
   "metadata": {
    "tags": []
   },
   "outputs": [
    {
     "data": {
      "text/plain": [
       "Andrea       True\n",
       "Beth         True\n",
       "Carolina    False\n",
       "dtype: bool"
      ]
     },
     "execution_count": 11,
     "metadata": {},
     "output_type": "execute_result"
    }
   ],
   "source": [
    "s > 70"
   ]
  },
  {
   "cell_type": "markdown",
   "id": "f33843a4-ff44-4ea3-8cec-d454bd4f6e67",
   "metadata": {},
   "source": [
    "## Identify missing values"
   ]
  },
  {
   "cell_type": "code",
   "execution_count": 12,
   "id": "aa96c49c-a214-4a16-967d-e45dacadf14f",
   "metadata": {
    "tags": []
   },
   "outputs": [
    {
     "data": {
      "text/plain": [
       "0    1.0\n",
       "1    2.0\n",
       "2    NaN\n",
       "3    4.0\n",
       "4    NaN\n",
       "dtype: float64"
      ]
     },
     "execution_count": 12,
     "metadata": {},
     "output_type": "execute_result"
    }
   ],
   "source": [
    "# Series with NAs in it\n",
    "s = pd.Series([1, 2, np.nan, 4, np.nan])\n",
    "s"
   ]
  },
  {
   "cell_type": "code",
   "execution_count": 13,
   "id": "f8a7780d-b9a4-494f-ab7f-c183dfb9a47a",
   "metadata": {
    "tags": []
   },
   "outputs": [
    {
     "data": {
      "text/plain": [
       "True"
      ]
     },
     "execution_count": 13,
     "metadata": {},
     "output_type": "execute_result"
    }
   ],
   "source": [
    "# Check if series has NAs\n",
    "s.hasnans"
   ]
  },
  {
   "cell_type": "code",
   "execution_count": 14,
   "id": "2dcab7cd-74fd-44b7-adb5-753470a86d58",
   "metadata": {
    "tags": []
   },
   "outputs": [
    {
     "data": {
      "text/plain": [
       "0    False\n",
       "1    False\n",
       "2     True\n",
       "3    False\n",
       "4     True\n",
       "dtype: bool"
      ]
     },
     "execution_count": 14,
     "metadata": {},
     "output_type": "execute_result"
    }
   ],
   "source": [
    "s.isna()"
   ]
  },
  {
   "cell_type": "markdown",
   "id": "72f59c54-133e-48a9-9a54-2bc9ce094b00",
   "metadata": {},
   "source": [
    "# Data Frames\n",
    "\n",
    "## Creating a pandas.DataFrame\n",
    "There are many ways of creating a pandas.DataFrame. We present one simple one in this section.\n",
    "\n",
    "We already mentioned each column of a pandas.DataFrame is a pandas.Series. In fact, the pandas.DataFrame is a dictionary of pandas.Series, with each column name being the key and the column values being the key’s value. Thus, we can create a pandas.DataFrame in this way:"
   ]
  },
  {
   "cell_type": "code",
   "execution_count": 15,
   "id": "233b4be7-8686-4883-b9be-5909c6d76b21",
   "metadata": {
    "tags": []
   },
   "outputs": [
    {
     "data": {
      "text/html": [
       "<div>\n",
       "<style scoped>\n",
       "    .dataframe tbody tr th:only-of-type {\n",
       "        vertical-align: middle;\n",
       "    }\n",
       "\n",
       "    .dataframe tbody tr th {\n",
       "        vertical-align: top;\n",
       "    }\n",
       "\n",
       "    .dataframe thead th {\n",
       "        text-align: right;\n",
       "    }\n",
       "</style>\n",
       "<table border=\"1\" class=\"dataframe\">\n",
       "  <thead>\n",
       "    <tr style=\"text-align: right;\">\n",
       "      <th></th>\n",
       "      <th>col_name_1</th>\n",
       "      <th>col_name_2</th>\n",
       "    </tr>\n",
       "  </thead>\n",
       "  <tbody>\n",
       "    <tr>\n",
       "      <th>0</th>\n",
       "      <td>0</td>\n",
       "      <td>3.1</td>\n",
       "    </tr>\n",
       "    <tr>\n",
       "      <th>1</th>\n",
       "      <td>1</td>\n",
       "      <td>3.2</td>\n",
       "    </tr>\n",
       "    <tr>\n",
       "      <th>2</th>\n",
       "      <td>2</td>\n",
       "      <td>3.3</td>\n",
       "    </tr>\n",
       "  </tbody>\n",
       "</table>\n",
       "</div>"
      ],
      "text/plain": [
       "   col_name_1  col_name_2\n",
       "0           0         3.1\n",
       "1           1         3.2\n",
       "2           2         3.3"
      ]
     },
     "execution_count": 15,
     "metadata": {},
     "output_type": "execute_result"
    }
   ],
   "source": [
    "# Initialize dictionary with columns' data \n",
    "d = {'col_name_1' : pd.Series(np.arange(3)),\n",
    "     'col_name_2' : pd.Series([3.1, 3.2, 3.3]),\n",
    "     }\n",
    "\n",
    "# Create data frame\n",
    "df = pd.DataFrame(d)\n",
    "df"
   ]
  },
  {
   "cell_type": "code",
   "execution_count": 16,
   "id": "b4b131ef-4583-4b98-a430-4530fbd8e802",
   "metadata": {
    "tags": []
   },
   "outputs": [
    {
     "data": {
      "text/html": [
       "<div>\n",
       "<style scoped>\n",
       "    .dataframe tbody tr th:only-of-type {\n",
       "        vertical-align: middle;\n",
       "    }\n",
       "\n",
       "    .dataframe tbody tr th {\n",
       "        vertical-align: top;\n",
       "    }\n",
       "\n",
       "    .dataframe thead th {\n",
       "        text-align: right;\n",
       "    }\n",
       "</style>\n",
       "<table border=\"1\" class=\"dataframe\">\n",
       "  <thead>\n",
       "    <tr style=\"text-align: right;\">\n",
       "      <th></th>\n",
       "      <th>col_name_1</th>\n",
       "      <th>col_name_2</th>\n",
       "    </tr>\n",
       "  </thead>\n",
       "  <tbody>\n",
       "    <tr>\n",
       "      <th>a</th>\n",
       "      <td>0</td>\n",
       "      <td>3.1</td>\n",
       "    </tr>\n",
       "    <tr>\n",
       "      <th>b</th>\n",
       "      <td>1</td>\n",
       "      <td>3.2</td>\n",
       "    </tr>\n",
       "    <tr>\n",
       "      <th>c</th>\n",
       "      <td>2</td>\n",
       "      <td>3.3</td>\n",
       "    </tr>\n",
       "  </tbody>\n",
       "</table>\n",
       "</div>"
      ],
      "text/plain": [
       "   col_name_1  col_name_2\n",
       "a           0         3.1\n",
       "b           1         3.2\n",
       "c           2         3.3"
      ]
     },
     "execution_count": 16,
     "metadata": {},
     "output_type": "execute_result"
    }
   ],
   "source": [
    "# Change index\n",
    "df.index = ['a','b','c']\n",
    "df"
   ]
  },
  {
   "cell_type": "markdown",
   "id": "3c2c6210-eff7-4575-8e0f-2ce00bdbdc50",
   "metadata": {},
   "source": [
    "## Check in exercise\n",
    "\n",
    "The integer number -999 is often used to represent missing values. Create a pandas.Series named s with four integer values, two of which are -999. The index of this series should be the the letters A through D.\n",
    "\n",
    "In the pandas.Series documentation, look for the method mask(). Use this method to update the series s so that the -999 values are replaced by NA values. HINT: check the first example in the method’s documentation."
   ]
  },
  {
   "cell_type": "code",
   "execution_count": 7,
   "id": "4d2f1519-0cb2-403d-b0bf-af1cd4eb98e7",
   "metadata": {
    "tags": []
   },
   "outputs": [],
   "source": [
    "# s = pd.Series([24, -999, 3, -999])\n",
    "# s = pd.DataFrame(s)\n",
    "# s.index = ['a', 'b', 'c', 'd']"
   ]
  },
  {
   "cell_type": "code",
   "execution_count": 9,
   "id": "e54eafbf-40c0-49d9-894a-b585976c7747",
   "metadata": {
    "tags": []
   },
   "outputs": [
    {
     "data": {
      "text/html": [
       "<div>\n",
       "<style scoped>\n",
       "    .dataframe tbody tr th:only-of-type {\n",
       "        vertical-align: middle;\n",
       "    }\n",
       "\n",
       "    .dataframe tbody tr th {\n",
       "        vertical-align: top;\n",
       "    }\n",
       "\n",
       "    .dataframe thead th {\n",
       "        text-align: right;\n",
       "    }\n",
       "</style>\n",
       "<table border=\"1\" class=\"dataframe\">\n",
       "  <thead>\n",
       "    <tr style=\"text-align: right;\">\n",
       "      <th></th>\n",
       "      <th>value</th>\n",
       "    </tr>\n",
       "  </thead>\n",
       "  <tbody>\n",
       "    <tr>\n",
       "      <th>A</th>\n",
       "      <td>24</td>\n",
       "    </tr>\n",
       "    <tr>\n",
       "      <th>B</th>\n",
       "      <td>-999</td>\n",
       "    </tr>\n",
       "    <tr>\n",
       "      <th>C</th>\n",
       "      <td>3</td>\n",
       "    </tr>\n",
       "    <tr>\n",
       "      <th>D</th>\n",
       "      <td>-999</td>\n",
       "    </tr>\n",
       "  </tbody>\n",
       "</table>\n",
       "</div>"
      ],
      "text/plain": [
       "   value\n",
       "A     24\n",
       "B   -999\n",
       "C      3\n",
       "D   -999"
      ]
     },
     "execution_count": 9,
     "metadata": {},
     "output_type": "execute_result"
    }
   ],
   "source": [
    "s = {'value' : pd.Series([24, -999, 3, -999])}\n",
    "s = pd.DataFrame(s)\n",
    "s.index = ['A', 'B', 'C', 'D']\n",
    "s"
   ]
  },
  {
   "cell_type": "code",
   "execution_count": 14,
   "id": "2cce2d2c-2997-487d-85aa-99b024ffe9aa",
   "metadata": {
    "tags": []
   },
   "outputs": [
    {
     "data": {
      "text/html": [
       "<div>\n",
       "<style scoped>\n",
       "    .dataframe tbody tr th:only-of-type {\n",
       "        vertical-align: middle;\n",
       "    }\n",
       "\n",
       "    .dataframe tbody tr th {\n",
       "        vertical-align: top;\n",
       "    }\n",
       "\n",
       "    .dataframe thead th {\n",
       "        text-align: right;\n",
       "    }\n",
       "</style>\n",
       "<table border=\"1\" class=\"dataframe\">\n",
       "  <thead>\n",
       "    <tr style=\"text-align: right;\">\n",
       "      <th></th>\n",
       "      <th>value</th>\n",
       "    </tr>\n",
       "  </thead>\n",
       "  <tbody>\n",
       "    <tr>\n",
       "      <th>A</th>\n",
       "      <td>24</td>\n",
       "    </tr>\n",
       "    <tr>\n",
       "      <th>B</th>\n",
       "      <td>NA</td>\n",
       "    </tr>\n",
       "    <tr>\n",
       "      <th>C</th>\n",
       "      <td>3</td>\n",
       "    </tr>\n",
       "    <tr>\n",
       "      <th>D</th>\n",
       "      <td>NA</td>\n",
       "    </tr>\n",
       "  </tbody>\n",
       "</table>\n",
       "</div>"
      ],
      "text/plain": [
       "  value\n",
       "A    24\n",
       "B    NA\n",
       "C     3\n",
       "D    NA"
      ]
     },
     "execution_count": 14,
     "metadata": {},
     "output_type": "execute_result"
    }
   ],
   "source": [
    "s.mask(s == -999, \"NA\")"
   ]
  }
 ],
 "metadata": {
  "kernelspec": {
   "display_name": "Anaconda 3 (Base)",
   "language": "python",
   "name": "base"
  },
  "language_info": {
   "codemirror_mode": {
    "name": "ipython",
    "version": 3
   },
   "file_extension": ".py",
   "mimetype": "text/x-python",
   "name": "python",
   "nbconvert_exporter": "python",
   "pygments_lexer": "ipython3",
   "version": "3.9.13"
  }
 },
 "nbformat": 4,
 "nbformat_minor": 5
}
